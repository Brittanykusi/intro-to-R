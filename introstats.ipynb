{
  "nbformat": 4,
  "nbformat_minor": 0,
  "metadata": {
    "colab": {
      "provenance": [],
      "collapsed_sections": [],
      "include_colab_link": true
    },
    "kernelspec": {
      "name": "ir",
      "display_name": "R"
    },
    "gpuClass": "standard"
  },
  "cells": [
    {
      "cell_type": "markdown",
      "metadata": {
        "id": "view-in-github",
        "colab_type": "text"
      },
      "source": [
        "<a href=\"https://colab.research.google.com/github/Brittanykusi/intro-to-R/blob/main/introstats.ipynb\" target=\"_parent\"><img src=\"https://colab.research.google.com/assets/colab-badge.svg\" alt=\"Open In Colab\"/></a>"
      ]
    },
    {
      "cell_type": "markdown",
      "source": [
        "Chapter 1: The R environment\n",
        "\n"
      ],
      "metadata": {
        "id": "-b6Uh3F37Loy"
      }
    },
    {
      "cell_type": "code",
      "metadata": {
        "id": "Z60PpIfIeF4Z"
      },
      "source": [
        "x <- 12\n"
      ],
      "execution_count": 96,
      "outputs": []
    },
    {
      "cell_type": "code",
      "metadata": {
        "id": "rCEtur7fajGn"
      },
      "source": [
        "# create vector of integers from 0 to 9\n",
        "some_numbers <- c(0,1,2,3,4,5,6,7,8,9)"
      ],
      "execution_count": 97,
      "outputs": []
    },
    {
      "cell_type": "code",
      "metadata": {
        "id": "T6aH0TahbghZ"
      },
      "source": [
        "# alternatively \n",
        "some_numbers <- c(0:9)"
      ],
      "execution_count": 98,
      "outputs": []
    },
    {
      "cell_type": "code",
      "metadata": {
        "id": "3o11KxDzyC0g",
        "outputId": "83538238-63ef-4661-c8c9-69887e126bff",
        "colab": {
          "base_uri": "https://localhost:8080/",
          "height": 34
        }
      },
      "source": [
        "some_numbers\n"
      ],
      "execution_count": 99,
      "outputs": [
        {
          "output_type": "display_data",
          "data": {
            "text/html": [
              "<style>\n",
              ".list-inline {list-style: none; margin:0; padding: 0}\n",
              ".list-inline>li {display: inline-block}\n",
              ".list-inline>li:not(:last-child)::after {content: \"\\00b7\"; padding: 0 .5ex}\n",
              "</style>\n",
              "<ol class=list-inline><li>0</li><li>1</li><li>2</li><li>3</li><li>4</li><li>5</li><li>6</li><li>7</li><li>8</li><li>9</li></ol>\n"
            ],
            "text/markdown": "1. 0\n2. 1\n3. 2\n4. 3\n5. 4\n6. 5\n7. 6\n8. 7\n9. 8\n10. 9\n\n\n",
            "text/latex": "\\begin{enumerate*}\n\\item 0\n\\item 1\n\\item 2\n\\item 3\n\\item 4\n\\item 5\n\\item 6\n\\item 7\n\\item 8\n\\item 9\n\\end{enumerate*}\n",
            "text/plain": [
              " [1] 0 1 2 3 4 5 6 7 8 9"
            ]
          },
          "metadata": {}
        }
      ]
    },
    {
      "cell_type": "code",
      "metadata": {
        "id": "SPYGePw53fWq",
        "colab": {
          "base_uri": "https://localhost:8080/",
          "height": 34
        },
        "outputId": "2950d5d9-3f69-4cd4-a62b-8f190c22c994"
      },
      "source": [
        "#mean\n",
        "mean(some_numbers)\n"
      ],
      "execution_count": 100,
      "outputs": [
        {
          "output_type": "display_data",
          "data": {
            "text/html": [
              "4.5"
            ],
            "text/markdown": "4.5",
            "text/latex": "4.5",
            "text/plain": [
              "[1] 4.5"
            ]
          },
          "metadata": {}
        }
      ]
    },
    {
      "cell_type": "code",
      "metadata": {
        "id": "1IzjHJFxv01f"
      },
      "source": [
        "library(tidyverse)\n"
      ],
      "execution_count": 101,
      "outputs": []
    },
    {
      "cell_type": "markdown",
      "source": [
        "Chapter 2: Getting Started with Data"
      ],
      "metadata": {
        "id": "ZEU1VM2I8Czj"
      }
    },
    {
      "cell_type": "code",
      "metadata": {
        "id": "sdyV67dk2vGx"
      },
      "source": [
        "paygap <- read.csv('/content/UK Gender Pay Gap Data - 2019 to 2020.csv', header = TRUE)\n"
      ],
      "execution_count": 102,
      "outputs": []
    },
    {
      "cell_type": "code",
      "source": [
        "head(paygap, n = 5)\n"
      ],
      "metadata": {
        "colab": {
          "base_uri": "https://localhost:8080/",
          "height": 674
        },
        "id": "TUIAFy8r8VLo",
        "outputId": "ddd8f94c-7e09-42fb-d99b-08e7483b109f"
      },
      "execution_count": 103,
      "outputs": [
        {
          "output_type": "display_data",
          "data": {
            "text/html": [
              "<table class=\"dataframe\">\n",
              "<caption>A data.frame: 5 × 27</caption>\n",
              "<thead>\n",
              "\t<tr><th></th><th scope=col>EmployerName</th><th scope=col>EmployerId</th><th scope=col>Address</th><th scope=col>PostCode</th><th scope=col>CompanyNumber</th><th scope=col>SicCodes</th><th scope=col>DiffMeanHourlyPercent</th><th scope=col>DiffMedianHourlyPercent</th><th scope=col>DiffMeanBonusPercent</th><th scope=col>DiffMedianBonusPercent</th><th scope=col>⋯</th><th scope=col>FemaleUpperMiddleQuartile</th><th scope=col>MaleTopQuartile</th><th scope=col>FemaleTopQuartile</th><th scope=col>CompanyLinkToGPGInfo</th><th scope=col>ResponsiblePerson</th><th scope=col>EmployerSize</th><th scope=col>CurrentName</th><th scope=col>SubmittedAfterTheDeadline</th><th scope=col>DueDate</th><th scope=col>DateSubmitted</th></tr>\n",
              "\t<tr><th></th><th scope=col>&lt;chr&gt;</th><th scope=col>&lt;int&gt;</th><th scope=col>&lt;chr&gt;</th><th scope=col>&lt;chr&gt;</th><th scope=col>&lt;chr&gt;</th><th scope=col>&lt;chr&gt;</th><th scope=col>&lt;dbl&gt;</th><th scope=col>&lt;dbl&gt;</th><th scope=col>&lt;dbl&gt;</th><th scope=col>&lt;dbl&gt;</th><th scope=col>⋯</th><th scope=col>&lt;dbl&gt;</th><th scope=col>&lt;dbl&gt;</th><th scope=col>&lt;dbl&gt;</th><th scope=col>&lt;chr&gt;</th><th scope=col>&lt;chr&gt;</th><th scope=col>&lt;chr&gt;</th><th scope=col>&lt;chr&gt;</th><th scope=col>&lt;chr&gt;</th><th scope=col>&lt;chr&gt;</th><th scope=col>&lt;chr&gt;</th></tr>\n",
              "</thead>\n",
              "<tbody>\n",
              "\t<tr><th scope=row>1</th><td>'PRIFYSGOL ABERYSTWYTH' AND 'ABERYSTWYTH UNIVERSITY'</td><td>19070</td><td>Aberystwyth University, Penglais, Ceredigion, SY23 3FL                            </td><td>SY23 3FL</td><td>RC000641</td><td>                     </td><td>11.5</td><td>10.3</td><td>    NA</td><td>    NA</td><td>⋯</td><td>60.0</td><td>62.0</td><td>38.0</td><td>https://www.aber.ac.uk/en/equality/genderpaygapreporting2019/ \n",
              "\n",
              "https://www.aber.ac.uk/cy/equality/gender-pay-gap/</td><td>Elizabeth Treasure (Vice-Chancellor)          </td><td>1000 to 4999</td><td>'PRIFYSGOL ABERYSTWYTH' AND 'ABERYSTWYTH UNIVERSITY'</td><td>False</td><td>2020/04/05 00:00:00</td><td>2020/04/03 14:47:45</td></tr>\n",
              "\t<tr><th scope=row>2</th><td>10 TRINITY SQUARE HOTEL LIMITED                     </td><td>19455</td><td>5 Market Yard Mews, 194-204 Bermondsey Street, London, United Kingdom, SE1 3TQ    </td><td>SE1 3TQ </td><td>08064685</td><td>82990                </td><td> 8.7</td><td>10.3</td><td>  29.6</td><td>  54.5</td><td>⋯</td><td>21.1</td><td>66.7</td><td>33.3</td><td>                                                                                                                    </td><td>Linda Stigter (Director of People and Culture)</td><td>250 to 499  </td><td>10 TRINITY SQUARE HOTEL LIMITED                     </td><td>False</td><td>2020/04/05 00:00:00</td><td>2020/03/19 15:51:20</td></tr>\n",
              "\t<tr><th scope=row>3</th><td>1LIFE MANAGEMENT SOLUTIONS LIMITED                  </td><td>  687</td><td>Ldh House St Ives Business Park, Parsons Green, St. Ives, Cambridgeshire, PE27 4AA</td><td>PE27 4AA</td><td>02566586</td><td>93110,\n",
              "93130,\n",
              "93290</td><td>11.0</td><td>-0.5</td><td>  81.5</td><td>  94.2</td><td>⋯</td><td>57.7</td><td>44.2</td><td>55.8</td><td>https://www.1life.co.uk/gender-pay-gap                                                                              </td><td>Mark Braithwaite (Managing Director)          </td><td>250 to 499  </td><td>1LIFE MANAGEMENT SOLUTIONS LIMITED                  </td><td>False</td><td>2020/04/05 00:00:00</td><td>2020/03/10 17:03:17</td></tr>\n",
              "\t<tr><th scope=row>4</th><td>1ST CHOICE STAFF RECRUITMENT LIMITED                </td><td>18136</td><td>1ST CHOICE RECRUITMENT, 8 St. Loyes Street, Bedford, MK40 1EP                     </td><td>MK40 1EP</td><td>07972006</td><td>78109                </td><td>-2.3</td><td> 0.0</td><td>-114.8</td><td>-249.3</td><td>⋯</td><td>37.1</td><td>50.0</td><td>50.0</td><td>https://www.1stchoice.net/gender-pay-gap-report-2019/                                                               </td><td>Gill Knight (MD)                              </td><td>250 to 499  </td><td>1ST CHOICE STAFF RECRUITMENT LIMITED                </td><td>False</td><td>2020/04/05 00:00:00</td><td>2020/01/24 09:37:01</td></tr>\n",
              "\t<tr><th scope=row>5</th><td>1ST HOME CARE LTD.                                  </td><td>17484</td><td>Real Life Options, 35 East Port, Dunfermline, Fife, Scotland, KY12 7LG            </td><td>KY12 7LG</td><td>SC272838</td><td>86900,\n",
              "88100        </td><td>-2.0</td><td> 0.5</td><td>    NA</td><td>    NA</td><td>⋯</td><td>91.0</td><td> 9.0</td><td>91.0</td><td>https://reallifeoptions.org/                                                                                        </td><td>Ian Hardcastle (Chief Operating Officer)      </td><td>250 to 499  </td><td>1ST HOME CARE LTD.                                  </td><td>False</td><td>2020/04/05 00:00:00</td><td>2020/03/12 08:21:06</td></tr>\n",
              "</tbody>\n",
              "</table>\n"
            ],
            "text/markdown": "\nA data.frame: 5 × 27\n\n| <!--/--> | EmployerName &lt;chr&gt; | EmployerId &lt;int&gt; | Address &lt;chr&gt; | PostCode &lt;chr&gt; | CompanyNumber &lt;chr&gt; | SicCodes &lt;chr&gt; | DiffMeanHourlyPercent &lt;dbl&gt; | DiffMedianHourlyPercent &lt;dbl&gt; | DiffMeanBonusPercent &lt;dbl&gt; | DiffMedianBonusPercent &lt;dbl&gt; | ⋯ ⋯ | FemaleUpperMiddleQuartile &lt;dbl&gt; | MaleTopQuartile &lt;dbl&gt; | FemaleTopQuartile &lt;dbl&gt; | CompanyLinkToGPGInfo &lt;chr&gt; | ResponsiblePerson &lt;chr&gt; | EmployerSize &lt;chr&gt; | CurrentName &lt;chr&gt; | SubmittedAfterTheDeadline &lt;chr&gt; | DueDate &lt;chr&gt; | DateSubmitted &lt;chr&gt; |\n|---|---|---|---|---|---|---|---|---|---|---|---|---|---|---|---|---|---|---|---|---|---|\n| 1 | 'PRIFYSGOL ABERYSTWYTH' AND 'ABERYSTWYTH UNIVERSITY' | 19070 | Aberystwyth University, Penglais, Ceredigion, SY23 3FL                             | SY23 3FL | RC000641 | <!----> | 11.5 | 10.3 |     NA |     NA | ⋯ | 60.0 | 62.0 | 38.0 | https://www.aber.ac.uk/en/equality/genderpaygapreporting2019/ \n\nhttps://www.aber.ac.uk/cy/equality/gender-pay-gap/ | Elizabeth Treasure (Vice-Chancellor)           | 1000 to 4999 | 'PRIFYSGOL ABERYSTWYTH' AND 'ABERYSTWYTH UNIVERSITY' | False | 2020/04/05 00:00:00 | 2020/04/03 14:47:45 |\n| 2 | 10 TRINITY SQUARE HOTEL LIMITED                      | 19455 | 5 Market Yard Mews, 194-204 Bermondsey Street, London, United Kingdom, SE1 3TQ     | SE1 3TQ  | 08064685 | 82990                 |  8.7 | 10.3 |   29.6 |   54.5 | ⋯ | 21.1 | 66.7 | 33.3 | <!----> | Linda Stigter (Director of People and Culture) | 250 to 499   | 10 TRINITY SQUARE HOTEL LIMITED                      | False | 2020/04/05 00:00:00 | 2020/03/19 15:51:20 |\n| 3 | 1LIFE MANAGEMENT SOLUTIONS LIMITED                   |   687 | Ldh House St Ives Business Park, Parsons Green, St. Ives, Cambridgeshire, PE27 4AA | PE27 4AA | 02566586 | 93110,\n93130,\n93290 | 11.0 | -0.5 |   81.5 |   94.2 | ⋯ | 57.7 | 44.2 | 55.8 | https://www.1life.co.uk/gender-pay-gap                                                                               | Mark Braithwaite (Managing Director)           | 250 to 499   | 1LIFE MANAGEMENT SOLUTIONS LIMITED                   | False | 2020/04/05 00:00:00 | 2020/03/10 17:03:17 |\n| 4 | 1ST CHOICE STAFF RECRUITMENT LIMITED                 | 18136 | 1ST CHOICE RECRUITMENT, 8 St. Loyes Street, Bedford, MK40 1EP                      | MK40 1EP | 07972006 | 78109                 | -2.3 |  0.0 | -114.8 | -249.3 | ⋯ | 37.1 | 50.0 | 50.0 | https://www.1stchoice.net/gender-pay-gap-report-2019/                                                                | Gill Knight (MD)                               | 250 to 499   | 1ST CHOICE STAFF RECRUITMENT LIMITED                 | False | 2020/04/05 00:00:00 | 2020/01/24 09:37:01 |\n| 5 | 1ST HOME CARE LTD.                                   | 17484 | Real Life Options, 35 East Port, Dunfermline, Fife, Scotland, KY12 7LG             | KY12 7LG | SC272838 | 86900,\n88100         | -2.0 |  0.5 |     NA |     NA | ⋯ | 91.0 |  9.0 | 91.0 | https://reallifeoptions.org/                                                                                         | Ian Hardcastle (Chief Operating Officer)       | 250 to 499   | 1ST HOME CARE LTD.                                   | False | 2020/04/05 00:00:00 | 2020/03/12 08:21:06 |\n\n",
            "text/latex": "A data.frame: 5 × 27\n\\begin{tabular}{r|lllllllllllllllllllll}\n  & EmployerName & EmployerId & Address & PostCode & CompanyNumber & SicCodes & DiffMeanHourlyPercent & DiffMedianHourlyPercent & DiffMeanBonusPercent & DiffMedianBonusPercent & ⋯ & FemaleUpperMiddleQuartile & MaleTopQuartile & FemaleTopQuartile & CompanyLinkToGPGInfo & ResponsiblePerson & EmployerSize & CurrentName & SubmittedAfterTheDeadline & DueDate & DateSubmitted\\\\\n  & <chr> & <int> & <chr> & <chr> & <chr> & <chr> & <dbl> & <dbl> & <dbl> & <dbl> & ⋯ & <dbl> & <dbl> & <dbl> & <chr> & <chr> & <chr> & <chr> & <chr> & <chr> & <chr>\\\\\n\\hline\n\t1 & 'PRIFYSGOL ABERYSTWYTH' AND 'ABERYSTWYTH UNIVERSITY' & 19070 & Aberystwyth University, Penglais, Ceredigion, SY23 3FL                             & SY23 3FL & RC000641 &                       & 11.5 & 10.3 &     NA &     NA & ⋯ & 60.0 & 62.0 & 38.0 & https://www.aber.ac.uk/en/equality/genderpaygapreporting2019/ \n\nhttps://www.aber.ac.uk/cy/equality/gender-pay-gap/ & Elizabeth Treasure (Vice-Chancellor)           & 1000 to 4999 & 'PRIFYSGOL ABERYSTWYTH' AND 'ABERYSTWYTH UNIVERSITY' & False & 2020/04/05 00:00:00 & 2020/04/03 14:47:45\\\\\n\t2 & 10 TRINITY SQUARE HOTEL LIMITED                      & 19455 & 5 Market Yard Mews, 194-204 Bermondsey Street, London, United Kingdom, SE1 3TQ     & SE1 3TQ  & 08064685 & 82990                 &  8.7 & 10.3 &   29.6 &   54.5 & ⋯ & 21.1 & 66.7 & 33.3 &                                                                                                                      & Linda Stigter (Director of People and Culture) & 250 to 499   & 10 TRINITY SQUARE HOTEL LIMITED                      & False & 2020/04/05 00:00:00 & 2020/03/19 15:51:20\\\\\n\t3 & 1LIFE MANAGEMENT SOLUTIONS LIMITED                   &   687 & Ldh House St Ives Business Park, Parsons Green, St. Ives, Cambridgeshire, PE27 4AA & PE27 4AA & 02566586 & 93110,\n93130,\n93290 & 11.0 & -0.5 &   81.5 &   94.2 & ⋯ & 57.7 & 44.2 & 55.8 & https://www.1life.co.uk/gender-pay-gap                                                                               & Mark Braithwaite (Managing Director)           & 250 to 499   & 1LIFE MANAGEMENT SOLUTIONS LIMITED                   & False & 2020/04/05 00:00:00 & 2020/03/10 17:03:17\\\\\n\t4 & 1ST CHOICE STAFF RECRUITMENT LIMITED                 & 18136 & 1ST CHOICE RECRUITMENT, 8 St. Loyes Street, Bedford, MK40 1EP                      & MK40 1EP & 07972006 & 78109                 & -2.3 &  0.0 & -114.8 & -249.3 & ⋯ & 37.1 & 50.0 & 50.0 & https://www.1stchoice.net/gender-pay-gap-report-2019/                                                                & Gill Knight (MD)                               & 250 to 499   & 1ST CHOICE STAFF RECRUITMENT LIMITED                 & False & 2020/04/05 00:00:00 & 2020/01/24 09:37:01\\\\\n\t5 & 1ST HOME CARE LTD.                                   & 17484 & Real Life Options, 35 East Port, Dunfermline, Fife, Scotland, KY12 7LG             & KY12 7LG & SC272838 & 86900,\n88100         & -2.0 &  0.5 &     NA &     NA & ⋯ & 91.0 &  9.0 & 91.0 & https://reallifeoptions.org/                                                                                         & Ian Hardcastle (Chief Operating Officer)       & 250 to 499   & 1ST HOME CARE LTD.                                   & False & 2020/04/05 00:00:00 & 2020/03/12 08:21:06\\\\\n\\end{tabular}\n",
            "text/plain": [
              "  EmployerName                                         EmployerId\n",
              "1 'PRIFYSGOL ABERYSTWYTH' AND 'ABERYSTWYTH UNIVERSITY' 19070     \n",
              "2 10 TRINITY SQUARE HOTEL LIMITED                      19455     \n",
              "3 1LIFE MANAGEMENT SOLUTIONS LIMITED                     687     \n",
              "4 1ST CHOICE STAFF RECRUITMENT LIMITED                 18136     \n",
              "5 1ST HOME CARE LTD.                                   17484     \n",
              "  Address                                                                           \n",
              "1 Aberystwyth University, Penglais, Ceredigion, SY23 3FL                            \n",
              "2 5 Market Yard Mews, 194-204 Bermondsey Street, London, United Kingdom, SE1 3TQ    \n",
              "3 Ldh House St Ives Business Park, Parsons Green, St. Ives, Cambridgeshire, PE27 4AA\n",
              "4 1ST CHOICE RECRUITMENT, 8 St. Loyes Street, Bedford, MK40 1EP                     \n",
              "5 Real Life Options, 35 East Port, Dunfermline, Fife, Scotland, KY12 7LG            \n",
              "  PostCode CompanyNumber SicCodes              DiffMeanHourlyPercent\n",
              "1 SY23 3FL RC000641                            11.5                 \n",
              "2 SE1 3TQ  08064685      82990                  8.7                 \n",
              "3 PE27 4AA 02566586      93110,\\n93130,\\n93290 11.0                 \n",
              "4 MK40 1EP 07972006      78109                 -2.3                 \n",
              "5 KY12 7LG SC272838      86900,\\n88100         -2.0                 \n",
              "  DiffMedianHourlyPercent DiffMeanBonusPercent DiffMedianBonusPercent ⋯\n",
              "1 10.3                        NA                   NA                 ⋯\n",
              "2 10.3                      29.6                 54.5                 ⋯\n",
              "3 -0.5                      81.5                 94.2                 ⋯\n",
              "4  0.0                    -114.8               -249.3                 ⋯\n",
              "5  0.5                        NA                   NA                 ⋯\n",
              "  FemaleUpperMiddleQuartile MaleTopQuartile FemaleTopQuartile\n",
              "1 60.0                      62.0            38.0             \n",
              "2 21.1                      66.7            33.3             \n",
              "3 57.7                      44.2            55.8             \n",
              "4 37.1                      50.0            50.0             \n",
              "5 91.0                       9.0            91.0             \n",
              "  CompanyLinkToGPGInfo                                                                                                \n",
              "1 https://www.aber.ac.uk/en/equality/genderpaygapreporting2019/ \\n\\nhttps://www.aber.ac.uk/cy/equality/gender-pay-gap/\n",
              "2                                                                                                                     \n",
              "3 https://www.1life.co.uk/gender-pay-gap                                                                              \n",
              "4 https://www.1stchoice.net/gender-pay-gap-report-2019/                                                               \n",
              "5 https://reallifeoptions.org/                                                                                        \n",
              "  ResponsiblePerson                              EmployerSize\n",
              "1 Elizabeth Treasure (Vice-Chancellor)           1000 to 4999\n",
              "2 Linda Stigter (Director of People and Culture) 250 to 499  \n",
              "3 Mark Braithwaite (Managing Director)           250 to 499  \n",
              "4 Gill Knight (MD)                               250 to 499  \n",
              "5 Ian Hardcastle (Chief Operating Officer)       250 to 499  \n",
              "  CurrentName                                         \n",
              "1 'PRIFYSGOL ABERYSTWYTH' AND 'ABERYSTWYTH UNIVERSITY'\n",
              "2 10 TRINITY SQUARE HOTEL LIMITED                     \n",
              "3 1LIFE MANAGEMENT SOLUTIONS LIMITED                  \n",
              "4 1ST CHOICE STAFF RECRUITMENT LIMITED                \n",
              "5 1ST HOME CARE LTD.                                  \n",
              "  SubmittedAfterTheDeadline DueDate             DateSubmitted      \n",
              "1 False                     2020/04/05 00:00:00 2020/04/03 14:47:45\n",
              "2 False                     2020/04/05 00:00:00 2020/03/19 15:51:20\n",
              "3 False                     2020/04/05 00:00:00 2020/03/10 17:03:17\n",
              "4 False                     2020/04/05 00:00:00 2020/01/24 09:37:01\n",
              "5 False                     2020/04/05 00:00:00 2020/03/12 08:21:06"
            ]
          },
          "metadata": {}
        }
      ]
    },
    {
      "cell_type": "code",
      "metadata": {
        "id": "qIbhtDzdwYdB",
        "colab": {
          "base_uri": "https://localhost:8080/",
          "height": 34
        },
        "outputId": "c2ae8267-0dee-4d4c-e1f3-570f9661a58a"
      },
      "source": [
        "# check dimensions\n",
        "dim(paygap)"
      ],
      "execution_count": 83,
      "outputs": [
        {
          "output_type": "display_data",
          "data": {
            "text/html": [
              "<style>\n",
              ".list-inline {list-style: none; margin:0; padding: 0}\n",
              ".list-inline>li {display: inline-block}\n",
              ".list-inline>li:not(:last-child)::after {content: \"\\00b7\"; padding: 0 .5ex}\n",
              "</style>\n",
              "<ol class=list-inline><li>6921</li><li>27</li></ol>\n"
            ],
            "text/markdown": "1. 6921\n2. 27\n\n\n",
            "text/latex": "\\begin{enumerate*}\n\\item 6921\n\\item 27\n\\end{enumerate*}\n",
            "text/plain": [
              "[1] 6921   27"
            ]
          },
          "metadata": {}
        }
      ]
    },
    {
      "cell_type": "code",
      "metadata": {
        "id": "xLlQFtlPxD5j",
        "colab": {
          "base_uri": "https://localhost:8080/",
          "height": 52
        },
        "outputId": "55b2ce34-cda1-47f5-d2ad-ad9c4b76d8fc"
      },
      "source": [
        "#You can check an object’s data type using class():\n",
        "class(paygap)\n",
        "\n",
        "#The data frame is indeed a common structure for tabular data. \n",
        "#To check the data type(s) in the column DiffMeanHourlyPercent:\n",
        "class(paygap$DiffMeanHourlyPercent)"
      ],
      "execution_count": 84,
      "outputs": [
        {
          "output_type": "display_data",
          "data": {
            "text/html": [
              "'data.frame'"
            ],
            "text/markdown": "'data.frame'",
            "text/latex": "'data.frame'",
            "text/plain": [
              "[1] \"data.frame\""
            ]
          },
          "metadata": {}
        },
        {
          "output_type": "display_data",
          "data": {
            "text/html": [
              "'numeric'"
            ],
            "text/markdown": "'numeric'",
            "text/latex": "'numeric'",
            "text/plain": [
              "[1] \"numeric\""
            ]
          },
          "metadata": {}
        }
      ]
    },
    {
      "cell_type": "markdown",
      "source": [
        "Chapter 3: Wrangling and VIsualizing Data"
      ],
      "metadata": {
        "id": "CVMxGqFy-i2_"
      }
    },
    {
      "cell_type": "code",
      "metadata": {
        "id": "lxBXXzeIx6aA",
        "colab": {
          "base_uri": "https://localhost:8080/",
          "height": 34
        },
        "outputId": "1bc7733f-4789-45b3-b476-c0582053237c"
      },
      "source": [
        "# extract element in 1st row and 3th column\n",
        "cardiacdata <- read.csv('/content/cardiacdata.csv', header = TRUE)\n",
        "cardiacdata[1,3]"
      ],
      "execution_count": 132,
      "outputs": [
        {
          "output_type": "display_data",
          "data": {
            "text/html": [
              "'Male'"
            ],
            "text/markdown": "'Male'",
            "text/latex": "'Male'",
            "text/plain": [
              "[1] \"Male\""
            ]
          },
          "metadata": {}
        }
      ]
    },
    {
      "cell_type": "code",
      "metadata": {
        "id": "Vmo1YXVcx91I"
      },
      "source": [
        "# select columns 'gender' and 'heartrate' and assign to new object 'heartrates'\n",
        "heartrates <- select(cardiacdata, Gender, HeartRate)"
      ],
      "execution_count": 133,
      "outputs": []
    },
    {
      "cell_type": "code",
      "metadata": {
        "id": "0ocs9zTCx-Sw"
      },
      "source": [
        "## append variable names with their respective units\n",
        "# rename 'bodytemp' to 'bodytemp_degF'\n",
        "cardiacdata <- rename(cardiacdata, bodytemp_degF = BodyTemp)\n"
      ],
      "execution_count": 134,
      "outputs": []
    },
    {
      "cell_type": "code",
      "metadata": {
        "id": "HrED9oZSx_ph"
      },
      "source": [
        "# rename 'heartrate' to 'heartrate_bpm'\n",
        "cardiacdata <- rename(cardiacdata, heartrate_bpm = HeartRate)"
      ],
      "execution_count": 135,
      "outputs": []
    },
    {
      "cell_type": "code",
      "metadata": {
        "id": "c4HysAnzyA_p",
        "colab": {
          "base_uri": "https://localhost:8080/",
          "height": 1000
        },
        "outputId": "e0b3cbf6-eff0-45d7-efc1-493c5f4bfc18"
      },
      "source": [
        "cardiacdata"
      ],
      "execution_count": 136,
      "outputs": [
        {
          "output_type": "display_data",
          "data": {
            "text/html": [
              "<table class=\"dataframe\">\n",
              "<caption>A data.frame: 130 × 4</caption>\n",
              "<thead>\n",
              "\t<tr><th scope=col>ID</th><th scope=col>bodytemp_degF</th><th scope=col>Gender</th><th scope=col>heartrate_bpm</th></tr>\n",
              "\t<tr><th scope=col>&lt;int&gt;</th><th scope=col>&lt;dbl&gt;</th><th scope=col>&lt;chr&gt;</th><th scope=col>&lt;int&gt;</th></tr>\n",
              "</thead>\n",
              "<tbody>\n",
              "\t<tr><td> 1</td><td>96.3</td><td>Male</td><td>70</td></tr>\n",
              "\t<tr><td> 2</td><td>96.7</td><td>Male</td><td>71</td></tr>\n",
              "\t<tr><td> 3</td><td>96.9</td><td>Male</td><td>74</td></tr>\n",
              "\t<tr><td> 4</td><td>97.0</td><td>Male</td><td>80</td></tr>\n",
              "\t<tr><td> 5</td><td>97.1</td><td>Male</td><td>73</td></tr>\n",
              "\t<tr><td> 6</td><td>97.1</td><td>Male</td><td>75</td></tr>\n",
              "\t<tr><td> 7</td><td>97.1</td><td>Male</td><td>82</td></tr>\n",
              "\t<tr><td> 8</td><td>97.2</td><td>Male</td><td>64</td></tr>\n",
              "\t<tr><td> 9</td><td>97.3</td><td>Male</td><td>69</td></tr>\n",
              "\t<tr><td>10</td><td>97.4</td><td>Male</td><td>70</td></tr>\n",
              "\t<tr><td>11</td><td>97.4</td><td>Male</td><td>68</td></tr>\n",
              "\t<tr><td>12</td><td>97.4</td><td>Male</td><td>72</td></tr>\n",
              "\t<tr><td>13</td><td>97.4</td><td>Male</td><td>78</td></tr>\n",
              "\t<tr><td>14</td><td>97.5</td><td>Male</td><td>70</td></tr>\n",
              "\t<tr><td>15</td><td>97.5</td><td>Male</td><td>75</td></tr>\n",
              "\t<tr><td>16</td><td>97.6</td><td>Male</td><td>74</td></tr>\n",
              "\t<tr><td>17</td><td>97.6</td><td>Male</td><td>69</td></tr>\n",
              "\t<tr><td>18</td><td>97.6</td><td>Male</td><td>73</td></tr>\n",
              "\t<tr><td>19</td><td>97.7</td><td>Male</td><td>77</td></tr>\n",
              "\t<tr><td>20</td><td>97.8</td><td>Male</td><td>58</td></tr>\n",
              "\t<tr><td>21</td><td>97.8</td><td>Male</td><td>73</td></tr>\n",
              "\t<tr><td>22</td><td>97.8</td><td>Male</td><td>65</td></tr>\n",
              "\t<tr><td>23</td><td>97.8</td><td>Male</td><td>74</td></tr>\n",
              "\t<tr><td>24</td><td>97.9</td><td>Male</td><td>76</td></tr>\n",
              "\t<tr><td>25</td><td>97.9</td><td>Male</td><td>72</td></tr>\n",
              "\t<tr><td>26</td><td>98.0</td><td>Male</td><td>78</td></tr>\n",
              "\t<tr><td>27</td><td>98.0</td><td>Male</td><td>71</td></tr>\n",
              "\t<tr><td>28</td><td>98.0</td><td>Male</td><td>74</td></tr>\n",
              "\t<tr><td>29</td><td>98.0</td><td>Male</td><td>67</td></tr>\n",
              "\t<tr><td>30</td><td>98.0</td><td>Male</td><td>64</td></tr>\n",
              "\t<tr><td>⋮</td><td>⋮</td><td>⋮</td><td>⋮</td></tr>\n",
              "\t<tr><td>101</td><td> 98.5</td><td>Female</td><td>83</td></tr>\n",
              "\t<tr><td>102</td><td> 98.6</td><td>Female</td><td>82</td></tr>\n",
              "\t<tr><td>103</td><td> 98.6</td><td>Female</td><td>85</td></tr>\n",
              "\t<tr><td>104</td><td> 98.6</td><td>Female</td><td>86</td></tr>\n",
              "\t<tr><td>105</td><td> 98.6</td><td>Female</td><td>77</td></tr>\n",
              "\t<tr><td>106</td><td> 98.7</td><td>Female</td><td>72</td></tr>\n",
              "\t<tr><td>107</td><td> 98.7</td><td>Female</td><td>79</td></tr>\n",
              "\t<tr><td>108</td><td> 98.7</td><td>Female</td><td>59</td></tr>\n",
              "\t<tr><td>109</td><td> 98.7</td><td>Female</td><td>64</td></tr>\n",
              "\t<tr><td>110</td><td> 98.7</td><td>Female</td><td>65</td></tr>\n",
              "\t<tr><td>111</td><td> 98.7</td><td>Female</td><td>82</td></tr>\n",
              "\t<tr><td>112</td><td> 98.8</td><td>Female</td><td>64</td></tr>\n",
              "\t<tr><td>113</td><td> 98.8</td><td>Female</td><td>70</td></tr>\n",
              "\t<tr><td>114</td><td> 98.8</td><td>Female</td><td>83</td></tr>\n",
              "\t<tr><td>115</td><td> 98.8</td><td>Female</td><td>89</td></tr>\n",
              "\t<tr><td>116</td><td> 98.8</td><td>Female</td><td>69</td></tr>\n",
              "\t<tr><td>117</td><td> 98.8</td><td>Female</td><td>73</td></tr>\n",
              "\t<tr><td>118</td><td> 98.8</td><td>Female</td><td>84</td></tr>\n",
              "\t<tr><td>119</td><td> 98.9</td><td>Female</td><td>76</td></tr>\n",
              "\t<tr><td>120</td><td> 99.0</td><td>Female</td><td>79</td></tr>\n",
              "\t<tr><td>121</td><td> 99.0</td><td>Female</td><td>81</td></tr>\n",
              "\t<tr><td>122</td><td> 99.1</td><td>Female</td><td>80</td></tr>\n",
              "\t<tr><td>123</td><td> 99.1</td><td>Female</td><td>74</td></tr>\n",
              "\t<tr><td>124</td><td> 99.2</td><td>Female</td><td>77</td></tr>\n",
              "\t<tr><td>125</td><td> 99.2</td><td>Female</td><td>66</td></tr>\n",
              "\t<tr><td>126</td><td> 99.3</td><td>Female</td><td>68</td></tr>\n",
              "\t<tr><td>127</td><td> 99.4</td><td>Female</td><td>77</td></tr>\n",
              "\t<tr><td>128</td><td> 99.9</td><td>Female</td><td>79</td></tr>\n",
              "\t<tr><td>129</td><td>100.0</td><td>Female</td><td>78</td></tr>\n",
              "\t<tr><td>130</td><td>100.8</td><td>Female</td><td>77</td></tr>\n",
              "</tbody>\n",
              "</table>\n"
            ],
            "text/markdown": "\nA data.frame: 130 × 4\n\n| ID &lt;int&gt; | bodytemp_degF &lt;dbl&gt; | Gender &lt;chr&gt; | heartrate_bpm &lt;int&gt; |\n|---|---|---|---|\n|  1 | 96.3 | Male | 70 |\n|  2 | 96.7 | Male | 71 |\n|  3 | 96.9 | Male | 74 |\n|  4 | 97.0 | Male | 80 |\n|  5 | 97.1 | Male | 73 |\n|  6 | 97.1 | Male | 75 |\n|  7 | 97.1 | Male | 82 |\n|  8 | 97.2 | Male | 64 |\n|  9 | 97.3 | Male | 69 |\n| 10 | 97.4 | Male | 70 |\n| 11 | 97.4 | Male | 68 |\n| 12 | 97.4 | Male | 72 |\n| 13 | 97.4 | Male | 78 |\n| 14 | 97.5 | Male | 70 |\n| 15 | 97.5 | Male | 75 |\n| 16 | 97.6 | Male | 74 |\n| 17 | 97.6 | Male | 69 |\n| 18 | 97.6 | Male | 73 |\n| 19 | 97.7 | Male | 77 |\n| 20 | 97.8 | Male | 58 |\n| 21 | 97.8 | Male | 73 |\n| 22 | 97.8 | Male | 65 |\n| 23 | 97.8 | Male | 74 |\n| 24 | 97.9 | Male | 76 |\n| 25 | 97.9 | Male | 72 |\n| 26 | 98.0 | Male | 78 |\n| 27 | 98.0 | Male | 71 |\n| 28 | 98.0 | Male | 74 |\n| 29 | 98.0 | Male | 67 |\n| 30 | 98.0 | Male | 64 |\n| ⋮ | ⋮ | ⋮ | ⋮ |\n| 101 |  98.5 | Female | 83 |\n| 102 |  98.6 | Female | 82 |\n| 103 |  98.6 | Female | 85 |\n| 104 |  98.6 | Female | 86 |\n| 105 |  98.6 | Female | 77 |\n| 106 |  98.7 | Female | 72 |\n| 107 |  98.7 | Female | 79 |\n| 108 |  98.7 | Female | 59 |\n| 109 |  98.7 | Female | 64 |\n| 110 |  98.7 | Female | 65 |\n| 111 |  98.7 | Female | 82 |\n| 112 |  98.8 | Female | 64 |\n| 113 |  98.8 | Female | 70 |\n| 114 |  98.8 | Female | 83 |\n| 115 |  98.8 | Female | 89 |\n| 116 |  98.8 | Female | 69 |\n| 117 |  98.8 | Female | 73 |\n| 118 |  98.8 | Female | 84 |\n| 119 |  98.9 | Female | 76 |\n| 120 |  99.0 | Female | 79 |\n| 121 |  99.0 | Female | 81 |\n| 122 |  99.1 | Female | 80 |\n| 123 |  99.1 | Female | 74 |\n| 124 |  99.2 | Female | 77 |\n| 125 |  99.2 | Female | 66 |\n| 126 |  99.3 | Female | 68 |\n| 127 |  99.4 | Female | 77 |\n| 128 |  99.9 | Female | 79 |\n| 129 | 100.0 | Female | 78 |\n| 130 | 100.8 | Female | 77 |\n\n",
            "text/latex": "A data.frame: 130 × 4\n\\begin{tabular}{llll}\n ID & bodytemp\\_degF & Gender & heartrate\\_bpm\\\\\n <int> & <dbl> & <chr> & <int>\\\\\n\\hline\n\t  1 & 96.3 & Male & 70\\\\\n\t  2 & 96.7 & Male & 71\\\\\n\t  3 & 96.9 & Male & 74\\\\\n\t  4 & 97.0 & Male & 80\\\\\n\t  5 & 97.1 & Male & 73\\\\\n\t  6 & 97.1 & Male & 75\\\\\n\t  7 & 97.1 & Male & 82\\\\\n\t  8 & 97.2 & Male & 64\\\\\n\t  9 & 97.3 & Male & 69\\\\\n\t 10 & 97.4 & Male & 70\\\\\n\t 11 & 97.4 & Male & 68\\\\\n\t 12 & 97.4 & Male & 72\\\\\n\t 13 & 97.4 & Male & 78\\\\\n\t 14 & 97.5 & Male & 70\\\\\n\t 15 & 97.5 & Male & 75\\\\\n\t 16 & 97.6 & Male & 74\\\\\n\t 17 & 97.6 & Male & 69\\\\\n\t 18 & 97.6 & Male & 73\\\\\n\t 19 & 97.7 & Male & 77\\\\\n\t 20 & 97.8 & Male & 58\\\\\n\t 21 & 97.8 & Male & 73\\\\\n\t 22 & 97.8 & Male & 65\\\\\n\t 23 & 97.8 & Male & 74\\\\\n\t 24 & 97.9 & Male & 76\\\\\n\t 25 & 97.9 & Male & 72\\\\\n\t 26 & 98.0 & Male & 78\\\\\n\t 27 & 98.0 & Male & 71\\\\\n\t 28 & 98.0 & Male & 74\\\\\n\t 29 & 98.0 & Male & 67\\\\\n\t 30 & 98.0 & Male & 64\\\\\n\t ⋮ & ⋮ & ⋮ & ⋮\\\\\n\t 101 &  98.5 & Female & 83\\\\\n\t 102 &  98.6 & Female & 82\\\\\n\t 103 &  98.6 & Female & 85\\\\\n\t 104 &  98.6 & Female & 86\\\\\n\t 105 &  98.6 & Female & 77\\\\\n\t 106 &  98.7 & Female & 72\\\\\n\t 107 &  98.7 & Female & 79\\\\\n\t 108 &  98.7 & Female & 59\\\\\n\t 109 &  98.7 & Female & 64\\\\\n\t 110 &  98.7 & Female & 65\\\\\n\t 111 &  98.7 & Female & 82\\\\\n\t 112 &  98.8 & Female & 64\\\\\n\t 113 &  98.8 & Female & 70\\\\\n\t 114 &  98.8 & Female & 83\\\\\n\t 115 &  98.8 & Female & 89\\\\\n\t 116 &  98.8 & Female & 69\\\\\n\t 117 &  98.8 & Female & 73\\\\\n\t 118 &  98.8 & Female & 84\\\\\n\t 119 &  98.9 & Female & 76\\\\\n\t 120 &  99.0 & Female & 79\\\\\n\t 121 &  99.0 & Female & 81\\\\\n\t 122 &  99.1 & Female & 80\\\\\n\t 123 &  99.1 & Female & 74\\\\\n\t 124 &  99.2 & Female & 77\\\\\n\t 125 &  99.2 & Female & 66\\\\\n\t 126 &  99.3 & Female & 68\\\\\n\t 127 &  99.4 & Female & 77\\\\\n\t 128 &  99.9 & Female & 79\\\\\n\t 129 & 100.0 & Female & 78\\\\\n\t 130 & 100.8 & Female & 77\\\\\n\\end{tabular}\n",
            "text/plain": [
              "    ID  bodytemp_degF Gender heartrate_bpm\n",
              "1    1  96.3          Male   70           \n",
              "2    2  96.7          Male   71           \n",
              "3    3  96.9          Male   74           \n",
              "4    4  97.0          Male   80           \n",
              "5    5  97.1          Male   73           \n",
              "6    6  97.1          Male   75           \n",
              "7    7  97.1          Male   82           \n",
              "8    8  97.2          Male   64           \n",
              "9    9  97.3          Male   69           \n",
              "10  10  97.4          Male   70           \n",
              "11  11  97.4          Male   68           \n",
              "12  12  97.4          Male   72           \n",
              "13  13  97.4          Male   78           \n",
              "14  14  97.5          Male   70           \n",
              "15  15  97.5          Male   75           \n",
              "16  16  97.6          Male   74           \n",
              "17  17  97.6          Male   69           \n",
              "18  18  97.6          Male   73           \n",
              "19  19  97.7          Male   77           \n",
              "20  20  97.8          Male   58           \n",
              "21  21  97.8          Male   73           \n",
              "22  22  97.8          Male   65           \n",
              "23  23  97.8          Male   74           \n",
              "24  24  97.9          Male   76           \n",
              "25  25  97.9          Male   72           \n",
              "26  26  98.0          Male   78           \n",
              "27  27  98.0          Male   71           \n",
              "28  28  98.0          Male   74           \n",
              "29  29  98.0          Male   67           \n",
              "30  30  98.0          Male   64           \n",
              "⋮   ⋮   ⋮             ⋮      ⋮            \n",
              "101 101  98.5         Female 83           \n",
              "102 102  98.6         Female 82           \n",
              "103 103  98.6         Female 85           \n",
              "104 104  98.6         Female 86           \n",
              "105 105  98.6         Female 77           \n",
              "106 106  98.7         Female 72           \n",
              "107 107  98.7         Female 79           \n",
              "108 108  98.7         Female 59           \n",
              "109 109  98.7         Female 64           \n",
              "110 110  98.7         Female 65           \n",
              "111 111  98.7         Female 82           \n",
              "112 112  98.8         Female 64           \n",
              "113 113  98.8         Female 70           \n",
              "114 114  98.8         Female 83           \n",
              "115 115  98.8         Female 89           \n",
              "116 116  98.8         Female 69           \n",
              "117 117  98.8         Female 73           \n",
              "118 118  98.8         Female 84           \n",
              "119 119  98.9         Female 76           \n",
              "120 120  99.0         Female 79           \n",
              "121 121  99.0         Female 81           \n",
              "122 122  99.1         Female 80           \n",
              "123 123  99.1         Female 74           \n",
              "124 124  99.2         Female 77           \n",
              "125 125  99.2         Female 66           \n",
              "126 126  99.3         Female 68           \n",
              "127 127  99.4         Female 77           \n",
              "128 128  99.9         Female 79           \n",
              "129 129 100.0         Female 78           \n",
              "130 130 100.8         Female 77           "
            ]
          },
          "metadata": {}
        }
      ]
    },
    {
      "cell_type": "code",
      "metadata": {
        "id": "ypXiaqB6jKRh"
      },
      "source": [
        "# add new column with body temperature in degrees celsius\n",
        "cardiacdata <- mutate(cardiacdata, bodytemp_degC = (bodytemp_degF - 32)*(5/9))"
      ],
      "execution_count": 137,
      "outputs": []
    },
    {
      "cell_type": "code",
      "metadata": {
        "id": "uaE0kZ0vkqms"
      },
      "source": [
        "# change values in gender column to read \"Female\" and \"Male\" instead of 1 and 2\n",
        "#cardiacdata <- mutate(cardiacdata, Gender = ifelse(Gender == 1, 'Female', \n",
        "                                            #ifelse(Gender == 2, 'Male', NA)))\n",
        "#cardiacdata"
      ],
      "execution_count": 139,
      "outputs": []
    },
    {
      "cell_type": "code",
      "metadata": {
        "id": "YmCDzKEpkxgc",
        "colab": {
          "base_uri": "https://localhost:8080/",
          "height": 286
        },
        "outputId": "c0586637-b71b-43a1-e8f6-c800bc137901"
      },
      "source": [
        "head(cardiacdata)"
      ],
      "execution_count": 140,
      "outputs": [
        {
          "output_type": "display_data",
          "data": {
            "text/html": [
              "<table class=\"dataframe\">\n",
              "<caption>A data.frame: 6 × 5</caption>\n",
              "<thead>\n",
              "\t<tr><th></th><th scope=col>ID</th><th scope=col>bodytemp_degF</th><th scope=col>Gender</th><th scope=col>heartrate_bpm</th><th scope=col>bodytemp_degC</th></tr>\n",
              "\t<tr><th></th><th scope=col>&lt;int&gt;</th><th scope=col>&lt;dbl&gt;</th><th scope=col>&lt;chr&gt;</th><th scope=col>&lt;int&gt;</th><th scope=col>&lt;dbl&gt;</th></tr>\n",
              "</thead>\n",
              "<tbody>\n",
              "\t<tr><th scope=row>1</th><td>1</td><td>96.3</td><td>Male</td><td>70</td><td>35.72222</td></tr>\n",
              "\t<tr><th scope=row>2</th><td>2</td><td>96.7</td><td>Male</td><td>71</td><td>35.94444</td></tr>\n",
              "\t<tr><th scope=row>3</th><td>3</td><td>96.9</td><td>Male</td><td>74</td><td>36.05556</td></tr>\n",
              "\t<tr><th scope=row>4</th><td>4</td><td>97.0</td><td>Male</td><td>80</td><td>36.11111</td></tr>\n",
              "\t<tr><th scope=row>5</th><td>5</td><td>97.1</td><td>Male</td><td>73</td><td>36.16667</td></tr>\n",
              "\t<tr><th scope=row>6</th><td>6</td><td>97.1</td><td>Male</td><td>75</td><td>36.16667</td></tr>\n",
              "</tbody>\n",
              "</table>\n"
            ],
            "text/markdown": "\nA data.frame: 6 × 5\n\n| <!--/--> | ID &lt;int&gt; | bodytemp_degF &lt;dbl&gt; | Gender &lt;chr&gt; | heartrate_bpm &lt;int&gt; | bodytemp_degC &lt;dbl&gt; |\n|---|---|---|---|---|---|\n| 1 | 1 | 96.3 | Male | 70 | 35.72222 |\n| 2 | 2 | 96.7 | Male | 71 | 35.94444 |\n| 3 | 3 | 96.9 | Male | 74 | 36.05556 |\n| 4 | 4 | 97.0 | Male | 80 | 36.11111 |\n| 5 | 5 | 97.1 | Male | 73 | 36.16667 |\n| 6 | 6 | 97.1 | Male | 75 | 36.16667 |\n\n",
            "text/latex": "A data.frame: 6 × 5\n\\begin{tabular}{r|lllll}\n  & ID & bodytemp\\_degF & Gender & heartrate\\_bpm & bodytemp\\_degC\\\\\n  & <int> & <dbl> & <chr> & <int> & <dbl>\\\\\n\\hline\n\t1 & 1 & 96.3 & Male & 70 & 35.72222\\\\\n\t2 & 2 & 96.7 & Male & 71 & 35.94444\\\\\n\t3 & 3 & 96.9 & Male & 74 & 36.05556\\\\\n\t4 & 4 & 97.0 & Male & 80 & 36.11111\\\\\n\t5 & 5 & 97.1 & Male & 73 & 36.16667\\\\\n\t6 & 6 & 97.1 & Male & 75 & 36.16667\\\\\n\\end{tabular}\n",
            "text/plain": [
              "  ID bodytemp_degF Gender heartrate_bpm bodytemp_degC\n",
              "1 1  96.3          Male   70            35.72222     \n",
              "2 2  96.7          Male   71            35.94444     \n",
              "3 3  96.9          Male   74            36.05556     \n",
              "4 4  97.0          Male   80            36.11111     \n",
              "5 5  97.1          Male   73            36.16667     \n",
              "6 6  97.1          Male   75            36.16667     "
            ]
          },
          "metadata": {}
        }
      ]
    },
    {
      "cell_type": "code",
      "metadata": {
        "id": "IS3VN3qamf20",
        "colab": {
          "base_uri": "https://localhost:8080/",
          "height": 1000
        },
        "outputId": "e38f58d5-4c0f-4118-ac25-da08950a0c2b"
      },
      "source": [
        "# filter for data from female subjects only\n",
        "cardiacdata_female <- filter(cardiacdata, Gender == 'Female')\n",
        "cardiacdata_female"
      ],
      "execution_count": 141,
      "outputs": [
        {
          "output_type": "display_data",
          "data": {
            "text/html": [
              "<table class=\"dataframe\">\n",
              "<caption>A data.frame: 65 × 5</caption>\n",
              "<thead>\n",
              "\t<tr><th scope=col>ID</th><th scope=col>bodytemp_degF</th><th scope=col>Gender</th><th scope=col>heartrate_bpm</th><th scope=col>bodytemp_degC</th></tr>\n",
              "\t<tr><th scope=col>&lt;int&gt;</th><th scope=col>&lt;dbl&gt;</th><th scope=col>&lt;chr&gt;</th><th scope=col>&lt;int&gt;</th><th scope=col>&lt;dbl&gt;</th></tr>\n",
              "</thead>\n",
              "<tbody>\n",
              "\t<tr><td>66</td><td>96.4</td><td>Female</td><td>69</td><td>35.77778</td></tr>\n",
              "\t<tr><td>67</td><td>96.7</td><td>Female</td><td>62</td><td>35.94444</td></tr>\n",
              "\t<tr><td>68</td><td>96.8</td><td>Female</td><td>75</td><td>36.00000</td></tr>\n",
              "\t<tr><td>69</td><td>97.2</td><td>Female</td><td>66</td><td>36.22222</td></tr>\n",
              "\t<tr><td>70</td><td>97.2</td><td>Female</td><td>68</td><td>36.22222</td></tr>\n",
              "\t<tr><td>71</td><td>97.4</td><td>Female</td><td>57</td><td>36.33333</td></tr>\n",
              "\t<tr><td>72</td><td>97.6</td><td>Female</td><td>61</td><td>36.44444</td></tr>\n",
              "\t<tr><td>73</td><td>97.7</td><td>Female</td><td>84</td><td>36.50000</td></tr>\n",
              "\t<tr><td>74</td><td>97.7</td><td>Female</td><td>61</td><td>36.50000</td></tr>\n",
              "\t<tr><td>75</td><td>97.8</td><td>Female</td><td>77</td><td>36.55556</td></tr>\n",
              "\t<tr><td>76</td><td>97.8</td><td>Female</td><td>62</td><td>36.55556</td></tr>\n",
              "\t<tr><td>77</td><td>97.8</td><td>Female</td><td>71</td><td>36.55556</td></tr>\n",
              "\t<tr><td>78</td><td>97.9</td><td>Female</td><td>68</td><td>36.61111</td></tr>\n",
              "\t<tr><td>79</td><td>97.9</td><td>Female</td><td>69</td><td>36.61111</td></tr>\n",
              "\t<tr><td>80</td><td>97.9</td><td>Female</td><td>79</td><td>36.61111</td></tr>\n",
              "\t<tr><td>81</td><td>98.0</td><td>Female</td><td>76</td><td>36.66667</td></tr>\n",
              "\t<tr><td>82</td><td>98.0</td><td>Female</td><td>87</td><td>36.66667</td></tr>\n",
              "\t<tr><td>83</td><td>98.0</td><td>Female</td><td>78</td><td>36.66667</td></tr>\n",
              "\t<tr><td>84</td><td>98.0</td><td>Female</td><td>73</td><td>36.66667</td></tr>\n",
              "\t<tr><td>85</td><td>98.0</td><td>Female</td><td>89</td><td>36.66667</td></tr>\n",
              "\t<tr><td>86</td><td>98.1</td><td>Female</td><td>81</td><td>36.72222</td></tr>\n",
              "\t<tr><td>87</td><td>98.2</td><td>Female</td><td>73</td><td>36.77778</td></tr>\n",
              "\t<tr><td>88</td><td>98.2</td><td>Female</td><td>64</td><td>36.77778</td></tr>\n",
              "\t<tr><td>89</td><td>98.2</td><td>Female</td><td>65</td><td>36.77778</td></tr>\n",
              "\t<tr><td>90</td><td>98.2</td><td>Female</td><td>73</td><td>36.77778</td></tr>\n",
              "\t<tr><td>91</td><td>98.2</td><td>Female</td><td>69</td><td>36.77778</td></tr>\n",
              "\t<tr><td>92</td><td>98.2</td><td>Female</td><td>57</td><td>36.77778</td></tr>\n",
              "\t<tr><td>93</td><td>98.3</td><td>Female</td><td>79</td><td>36.83333</td></tr>\n",
              "\t<tr><td>94</td><td>98.3</td><td>Female</td><td>78</td><td>36.83333</td></tr>\n",
              "\t<tr><td>95</td><td>98.3</td><td>Female</td><td>80</td><td>36.83333</td></tr>\n",
              "\t<tr><td>⋮</td><td>⋮</td><td>⋮</td><td>⋮</td><td>⋮</td></tr>\n",
              "\t<tr><td>101</td><td> 98.5</td><td>Female</td><td>83</td><td>36.94444</td></tr>\n",
              "\t<tr><td>102</td><td> 98.6</td><td>Female</td><td>82</td><td>37.00000</td></tr>\n",
              "\t<tr><td>103</td><td> 98.6</td><td>Female</td><td>85</td><td>37.00000</td></tr>\n",
              "\t<tr><td>104</td><td> 98.6</td><td>Female</td><td>86</td><td>37.00000</td></tr>\n",
              "\t<tr><td>105</td><td> 98.6</td><td>Female</td><td>77</td><td>37.00000</td></tr>\n",
              "\t<tr><td>106</td><td> 98.7</td><td>Female</td><td>72</td><td>37.05556</td></tr>\n",
              "\t<tr><td>107</td><td> 98.7</td><td>Female</td><td>79</td><td>37.05556</td></tr>\n",
              "\t<tr><td>108</td><td> 98.7</td><td>Female</td><td>59</td><td>37.05556</td></tr>\n",
              "\t<tr><td>109</td><td> 98.7</td><td>Female</td><td>64</td><td>37.05556</td></tr>\n",
              "\t<tr><td>110</td><td> 98.7</td><td>Female</td><td>65</td><td>37.05556</td></tr>\n",
              "\t<tr><td>111</td><td> 98.7</td><td>Female</td><td>82</td><td>37.05556</td></tr>\n",
              "\t<tr><td>112</td><td> 98.8</td><td>Female</td><td>64</td><td>37.11111</td></tr>\n",
              "\t<tr><td>113</td><td> 98.8</td><td>Female</td><td>70</td><td>37.11111</td></tr>\n",
              "\t<tr><td>114</td><td> 98.8</td><td>Female</td><td>83</td><td>37.11111</td></tr>\n",
              "\t<tr><td>115</td><td> 98.8</td><td>Female</td><td>89</td><td>37.11111</td></tr>\n",
              "\t<tr><td>116</td><td> 98.8</td><td>Female</td><td>69</td><td>37.11111</td></tr>\n",
              "\t<tr><td>117</td><td> 98.8</td><td>Female</td><td>73</td><td>37.11111</td></tr>\n",
              "\t<tr><td>118</td><td> 98.8</td><td>Female</td><td>84</td><td>37.11111</td></tr>\n",
              "\t<tr><td>119</td><td> 98.9</td><td>Female</td><td>76</td><td>37.16667</td></tr>\n",
              "\t<tr><td>120</td><td> 99.0</td><td>Female</td><td>79</td><td>37.22222</td></tr>\n",
              "\t<tr><td>121</td><td> 99.0</td><td>Female</td><td>81</td><td>37.22222</td></tr>\n",
              "\t<tr><td>122</td><td> 99.1</td><td>Female</td><td>80</td><td>37.27778</td></tr>\n",
              "\t<tr><td>123</td><td> 99.1</td><td>Female</td><td>74</td><td>37.27778</td></tr>\n",
              "\t<tr><td>124</td><td> 99.2</td><td>Female</td><td>77</td><td>37.33333</td></tr>\n",
              "\t<tr><td>125</td><td> 99.2</td><td>Female</td><td>66</td><td>37.33333</td></tr>\n",
              "\t<tr><td>126</td><td> 99.3</td><td>Female</td><td>68</td><td>37.38889</td></tr>\n",
              "\t<tr><td>127</td><td> 99.4</td><td>Female</td><td>77</td><td>37.44444</td></tr>\n",
              "\t<tr><td>128</td><td> 99.9</td><td>Female</td><td>79</td><td>37.72222</td></tr>\n",
              "\t<tr><td>129</td><td>100.0</td><td>Female</td><td>78</td><td>37.77778</td></tr>\n",
              "\t<tr><td>130</td><td>100.8</td><td>Female</td><td>77</td><td>38.22222</td></tr>\n",
              "</tbody>\n",
              "</table>\n"
            ],
            "text/markdown": "\nA data.frame: 65 × 5\n\n| ID &lt;int&gt; | bodytemp_degF &lt;dbl&gt; | Gender &lt;chr&gt; | heartrate_bpm &lt;int&gt; | bodytemp_degC &lt;dbl&gt; |\n|---|---|---|---|---|\n| 66 | 96.4 | Female | 69 | 35.77778 |\n| 67 | 96.7 | Female | 62 | 35.94444 |\n| 68 | 96.8 | Female | 75 | 36.00000 |\n| 69 | 97.2 | Female | 66 | 36.22222 |\n| 70 | 97.2 | Female | 68 | 36.22222 |\n| 71 | 97.4 | Female | 57 | 36.33333 |\n| 72 | 97.6 | Female | 61 | 36.44444 |\n| 73 | 97.7 | Female | 84 | 36.50000 |\n| 74 | 97.7 | Female | 61 | 36.50000 |\n| 75 | 97.8 | Female | 77 | 36.55556 |\n| 76 | 97.8 | Female | 62 | 36.55556 |\n| 77 | 97.8 | Female | 71 | 36.55556 |\n| 78 | 97.9 | Female | 68 | 36.61111 |\n| 79 | 97.9 | Female | 69 | 36.61111 |\n| 80 | 97.9 | Female | 79 | 36.61111 |\n| 81 | 98.0 | Female | 76 | 36.66667 |\n| 82 | 98.0 | Female | 87 | 36.66667 |\n| 83 | 98.0 | Female | 78 | 36.66667 |\n| 84 | 98.0 | Female | 73 | 36.66667 |\n| 85 | 98.0 | Female | 89 | 36.66667 |\n| 86 | 98.1 | Female | 81 | 36.72222 |\n| 87 | 98.2 | Female | 73 | 36.77778 |\n| 88 | 98.2 | Female | 64 | 36.77778 |\n| 89 | 98.2 | Female | 65 | 36.77778 |\n| 90 | 98.2 | Female | 73 | 36.77778 |\n| 91 | 98.2 | Female | 69 | 36.77778 |\n| 92 | 98.2 | Female | 57 | 36.77778 |\n| 93 | 98.3 | Female | 79 | 36.83333 |\n| 94 | 98.3 | Female | 78 | 36.83333 |\n| 95 | 98.3 | Female | 80 | 36.83333 |\n| ⋮ | ⋮ | ⋮ | ⋮ | ⋮ |\n| 101 |  98.5 | Female | 83 | 36.94444 |\n| 102 |  98.6 | Female | 82 | 37.00000 |\n| 103 |  98.6 | Female | 85 | 37.00000 |\n| 104 |  98.6 | Female | 86 | 37.00000 |\n| 105 |  98.6 | Female | 77 | 37.00000 |\n| 106 |  98.7 | Female | 72 | 37.05556 |\n| 107 |  98.7 | Female | 79 | 37.05556 |\n| 108 |  98.7 | Female | 59 | 37.05556 |\n| 109 |  98.7 | Female | 64 | 37.05556 |\n| 110 |  98.7 | Female | 65 | 37.05556 |\n| 111 |  98.7 | Female | 82 | 37.05556 |\n| 112 |  98.8 | Female | 64 | 37.11111 |\n| 113 |  98.8 | Female | 70 | 37.11111 |\n| 114 |  98.8 | Female | 83 | 37.11111 |\n| 115 |  98.8 | Female | 89 | 37.11111 |\n| 116 |  98.8 | Female | 69 | 37.11111 |\n| 117 |  98.8 | Female | 73 | 37.11111 |\n| 118 |  98.8 | Female | 84 | 37.11111 |\n| 119 |  98.9 | Female | 76 | 37.16667 |\n| 120 |  99.0 | Female | 79 | 37.22222 |\n| 121 |  99.0 | Female | 81 | 37.22222 |\n| 122 |  99.1 | Female | 80 | 37.27778 |\n| 123 |  99.1 | Female | 74 | 37.27778 |\n| 124 |  99.2 | Female | 77 | 37.33333 |\n| 125 |  99.2 | Female | 66 | 37.33333 |\n| 126 |  99.3 | Female | 68 | 37.38889 |\n| 127 |  99.4 | Female | 77 | 37.44444 |\n| 128 |  99.9 | Female | 79 | 37.72222 |\n| 129 | 100.0 | Female | 78 | 37.77778 |\n| 130 | 100.8 | Female | 77 | 38.22222 |\n\n",
            "text/latex": "A data.frame: 65 × 5\n\\begin{tabular}{lllll}\n ID & bodytemp\\_degF & Gender & heartrate\\_bpm & bodytemp\\_degC\\\\\n <int> & <dbl> & <chr> & <int> & <dbl>\\\\\n\\hline\n\t 66 & 96.4 & Female & 69 & 35.77778\\\\\n\t 67 & 96.7 & Female & 62 & 35.94444\\\\\n\t 68 & 96.8 & Female & 75 & 36.00000\\\\\n\t 69 & 97.2 & Female & 66 & 36.22222\\\\\n\t 70 & 97.2 & Female & 68 & 36.22222\\\\\n\t 71 & 97.4 & Female & 57 & 36.33333\\\\\n\t 72 & 97.6 & Female & 61 & 36.44444\\\\\n\t 73 & 97.7 & Female & 84 & 36.50000\\\\\n\t 74 & 97.7 & Female & 61 & 36.50000\\\\\n\t 75 & 97.8 & Female & 77 & 36.55556\\\\\n\t 76 & 97.8 & Female & 62 & 36.55556\\\\\n\t 77 & 97.8 & Female & 71 & 36.55556\\\\\n\t 78 & 97.9 & Female & 68 & 36.61111\\\\\n\t 79 & 97.9 & Female & 69 & 36.61111\\\\\n\t 80 & 97.9 & Female & 79 & 36.61111\\\\\n\t 81 & 98.0 & Female & 76 & 36.66667\\\\\n\t 82 & 98.0 & Female & 87 & 36.66667\\\\\n\t 83 & 98.0 & Female & 78 & 36.66667\\\\\n\t 84 & 98.0 & Female & 73 & 36.66667\\\\\n\t 85 & 98.0 & Female & 89 & 36.66667\\\\\n\t 86 & 98.1 & Female & 81 & 36.72222\\\\\n\t 87 & 98.2 & Female & 73 & 36.77778\\\\\n\t 88 & 98.2 & Female & 64 & 36.77778\\\\\n\t 89 & 98.2 & Female & 65 & 36.77778\\\\\n\t 90 & 98.2 & Female & 73 & 36.77778\\\\\n\t 91 & 98.2 & Female & 69 & 36.77778\\\\\n\t 92 & 98.2 & Female & 57 & 36.77778\\\\\n\t 93 & 98.3 & Female & 79 & 36.83333\\\\\n\t 94 & 98.3 & Female & 78 & 36.83333\\\\\n\t 95 & 98.3 & Female & 80 & 36.83333\\\\\n\t ⋮ & ⋮ & ⋮ & ⋮ & ⋮\\\\\n\t 101 &  98.5 & Female & 83 & 36.94444\\\\\n\t 102 &  98.6 & Female & 82 & 37.00000\\\\\n\t 103 &  98.6 & Female & 85 & 37.00000\\\\\n\t 104 &  98.6 & Female & 86 & 37.00000\\\\\n\t 105 &  98.6 & Female & 77 & 37.00000\\\\\n\t 106 &  98.7 & Female & 72 & 37.05556\\\\\n\t 107 &  98.7 & Female & 79 & 37.05556\\\\\n\t 108 &  98.7 & Female & 59 & 37.05556\\\\\n\t 109 &  98.7 & Female & 64 & 37.05556\\\\\n\t 110 &  98.7 & Female & 65 & 37.05556\\\\\n\t 111 &  98.7 & Female & 82 & 37.05556\\\\\n\t 112 &  98.8 & Female & 64 & 37.11111\\\\\n\t 113 &  98.8 & Female & 70 & 37.11111\\\\\n\t 114 &  98.8 & Female & 83 & 37.11111\\\\\n\t 115 &  98.8 & Female & 89 & 37.11111\\\\\n\t 116 &  98.8 & Female & 69 & 37.11111\\\\\n\t 117 &  98.8 & Female & 73 & 37.11111\\\\\n\t 118 &  98.8 & Female & 84 & 37.11111\\\\\n\t 119 &  98.9 & Female & 76 & 37.16667\\\\\n\t 120 &  99.0 & Female & 79 & 37.22222\\\\\n\t 121 &  99.0 & Female & 81 & 37.22222\\\\\n\t 122 &  99.1 & Female & 80 & 37.27778\\\\\n\t 123 &  99.1 & Female & 74 & 37.27778\\\\\n\t 124 &  99.2 & Female & 77 & 37.33333\\\\\n\t 125 &  99.2 & Female & 66 & 37.33333\\\\\n\t 126 &  99.3 & Female & 68 & 37.38889\\\\\n\t 127 &  99.4 & Female & 77 & 37.44444\\\\\n\t 128 &  99.9 & Female & 79 & 37.72222\\\\\n\t 129 & 100.0 & Female & 78 & 37.77778\\\\\n\t 130 & 100.8 & Female & 77 & 38.22222\\\\\n\\end{tabular}\n",
            "text/plain": [
              "   ID  bodytemp_degF Gender heartrate_bpm bodytemp_degC\n",
              "1  66  96.4          Female 69            35.77778     \n",
              "2  67  96.7          Female 62            35.94444     \n",
              "3  68  96.8          Female 75            36.00000     \n",
              "4  69  97.2          Female 66            36.22222     \n",
              "5  70  97.2          Female 68            36.22222     \n",
              "6  71  97.4          Female 57            36.33333     \n",
              "7  72  97.6          Female 61            36.44444     \n",
              "8  73  97.7          Female 84            36.50000     \n",
              "9  74  97.7          Female 61            36.50000     \n",
              "10 75  97.8          Female 77            36.55556     \n",
              "11 76  97.8          Female 62            36.55556     \n",
              "12 77  97.8          Female 71            36.55556     \n",
              "13 78  97.9          Female 68            36.61111     \n",
              "14 79  97.9          Female 69            36.61111     \n",
              "15 80  97.9          Female 79            36.61111     \n",
              "16 81  98.0          Female 76            36.66667     \n",
              "17 82  98.0          Female 87            36.66667     \n",
              "18 83  98.0          Female 78            36.66667     \n",
              "19 84  98.0          Female 73            36.66667     \n",
              "20 85  98.0          Female 89            36.66667     \n",
              "21 86  98.1          Female 81            36.72222     \n",
              "22 87  98.2          Female 73            36.77778     \n",
              "23 88  98.2          Female 64            36.77778     \n",
              "24 89  98.2          Female 65            36.77778     \n",
              "25 90  98.2          Female 73            36.77778     \n",
              "26 91  98.2          Female 69            36.77778     \n",
              "27 92  98.2          Female 57            36.77778     \n",
              "28 93  98.3          Female 79            36.83333     \n",
              "29 94  98.3          Female 78            36.83333     \n",
              "30 95  98.3          Female 80            36.83333     \n",
              "⋮  ⋮   ⋮             ⋮      ⋮             ⋮            \n",
              "36 101  98.5         Female 83            36.94444     \n",
              "37 102  98.6         Female 82            37.00000     \n",
              "38 103  98.6         Female 85            37.00000     \n",
              "39 104  98.6         Female 86            37.00000     \n",
              "40 105  98.6         Female 77            37.00000     \n",
              "41 106  98.7         Female 72            37.05556     \n",
              "42 107  98.7         Female 79            37.05556     \n",
              "43 108  98.7         Female 59            37.05556     \n",
              "44 109  98.7         Female 64            37.05556     \n",
              "45 110  98.7         Female 65            37.05556     \n",
              "46 111  98.7         Female 82            37.05556     \n",
              "47 112  98.8         Female 64            37.11111     \n",
              "48 113  98.8         Female 70            37.11111     \n",
              "49 114  98.8         Female 83            37.11111     \n",
              "50 115  98.8         Female 89            37.11111     \n",
              "51 116  98.8         Female 69            37.11111     \n",
              "52 117  98.8         Female 73            37.11111     \n",
              "53 118  98.8         Female 84            37.11111     \n",
              "54 119  98.9         Female 76            37.16667     \n",
              "55 120  99.0         Female 79            37.22222     \n",
              "56 121  99.0         Female 81            37.22222     \n",
              "57 122  99.1         Female 80            37.27778     \n",
              "58 123  99.1         Female 74            37.27778     \n",
              "59 124  99.2         Female 77            37.33333     \n",
              "60 125  99.2         Female 66            37.33333     \n",
              "61 126  99.3         Female 68            37.38889     \n",
              "62 127  99.4         Female 77            37.44444     \n",
              "63 128  99.9         Female 79            37.72222     \n",
              "64 129 100.0         Female 78            37.77778     \n",
              "65 130 100.8         Female 77            38.22222     "
            ]
          },
          "metadata": {}
        }
      ]
    },
    {
      "cell_type": "code",
      "source": [
        "#piping\n",
        "cardiacdata_some <- cardiacdata %>%\n",
        "  filter(Gender == 'Female') %>%\n",
        "  select(-Gender) %>%\n",
        "  mutate(bodytemp_Kelvin = bodytemp_degC + 273)"
      ],
      "metadata": {
        "id": "zfebw_lkCNah"
      },
      "execution_count": 142,
      "outputs": []
    },
    {
      "cell_type": "code",
      "source": [
        "cardiacdata_some"
      ],
      "metadata": {
        "colab": {
          "base_uri": "https://localhost:8080/",
          "height": 1000
        },
        "id": "U8tmSzyxEZEv",
        "outputId": "ef04c30e-53f2-4f37-b22b-ff15d670d2cc"
      },
      "execution_count": 143,
      "outputs": [
        {
          "output_type": "display_data",
          "data": {
            "text/html": [
              "<table class=\"dataframe\">\n",
              "<caption>A data.frame: 65 × 5</caption>\n",
              "<thead>\n",
              "\t<tr><th scope=col>ID</th><th scope=col>bodytemp_degF</th><th scope=col>heartrate_bpm</th><th scope=col>bodytemp_degC</th><th scope=col>bodytemp_Kelvin</th></tr>\n",
              "\t<tr><th scope=col>&lt;int&gt;</th><th scope=col>&lt;dbl&gt;</th><th scope=col>&lt;int&gt;</th><th scope=col>&lt;dbl&gt;</th><th scope=col>&lt;dbl&gt;</th></tr>\n",
              "</thead>\n",
              "<tbody>\n",
              "\t<tr><td>66</td><td>96.4</td><td>69</td><td>35.77778</td><td>308.7778</td></tr>\n",
              "\t<tr><td>67</td><td>96.7</td><td>62</td><td>35.94444</td><td>308.9444</td></tr>\n",
              "\t<tr><td>68</td><td>96.8</td><td>75</td><td>36.00000</td><td>309.0000</td></tr>\n",
              "\t<tr><td>69</td><td>97.2</td><td>66</td><td>36.22222</td><td>309.2222</td></tr>\n",
              "\t<tr><td>70</td><td>97.2</td><td>68</td><td>36.22222</td><td>309.2222</td></tr>\n",
              "\t<tr><td>71</td><td>97.4</td><td>57</td><td>36.33333</td><td>309.3333</td></tr>\n",
              "\t<tr><td>72</td><td>97.6</td><td>61</td><td>36.44444</td><td>309.4444</td></tr>\n",
              "\t<tr><td>73</td><td>97.7</td><td>84</td><td>36.50000</td><td>309.5000</td></tr>\n",
              "\t<tr><td>74</td><td>97.7</td><td>61</td><td>36.50000</td><td>309.5000</td></tr>\n",
              "\t<tr><td>75</td><td>97.8</td><td>77</td><td>36.55556</td><td>309.5556</td></tr>\n",
              "\t<tr><td>76</td><td>97.8</td><td>62</td><td>36.55556</td><td>309.5556</td></tr>\n",
              "\t<tr><td>77</td><td>97.8</td><td>71</td><td>36.55556</td><td>309.5556</td></tr>\n",
              "\t<tr><td>78</td><td>97.9</td><td>68</td><td>36.61111</td><td>309.6111</td></tr>\n",
              "\t<tr><td>79</td><td>97.9</td><td>69</td><td>36.61111</td><td>309.6111</td></tr>\n",
              "\t<tr><td>80</td><td>97.9</td><td>79</td><td>36.61111</td><td>309.6111</td></tr>\n",
              "\t<tr><td>81</td><td>98.0</td><td>76</td><td>36.66667</td><td>309.6667</td></tr>\n",
              "\t<tr><td>82</td><td>98.0</td><td>87</td><td>36.66667</td><td>309.6667</td></tr>\n",
              "\t<tr><td>83</td><td>98.0</td><td>78</td><td>36.66667</td><td>309.6667</td></tr>\n",
              "\t<tr><td>84</td><td>98.0</td><td>73</td><td>36.66667</td><td>309.6667</td></tr>\n",
              "\t<tr><td>85</td><td>98.0</td><td>89</td><td>36.66667</td><td>309.6667</td></tr>\n",
              "\t<tr><td>86</td><td>98.1</td><td>81</td><td>36.72222</td><td>309.7222</td></tr>\n",
              "\t<tr><td>87</td><td>98.2</td><td>73</td><td>36.77778</td><td>309.7778</td></tr>\n",
              "\t<tr><td>88</td><td>98.2</td><td>64</td><td>36.77778</td><td>309.7778</td></tr>\n",
              "\t<tr><td>89</td><td>98.2</td><td>65</td><td>36.77778</td><td>309.7778</td></tr>\n",
              "\t<tr><td>90</td><td>98.2</td><td>73</td><td>36.77778</td><td>309.7778</td></tr>\n",
              "\t<tr><td>91</td><td>98.2</td><td>69</td><td>36.77778</td><td>309.7778</td></tr>\n",
              "\t<tr><td>92</td><td>98.2</td><td>57</td><td>36.77778</td><td>309.7778</td></tr>\n",
              "\t<tr><td>93</td><td>98.3</td><td>79</td><td>36.83333</td><td>309.8333</td></tr>\n",
              "\t<tr><td>94</td><td>98.3</td><td>78</td><td>36.83333</td><td>309.8333</td></tr>\n",
              "\t<tr><td>95</td><td>98.3</td><td>80</td><td>36.83333</td><td>309.8333</td></tr>\n",
              "\t<tr><td>⋮</td><td>⋮</td><td>⋮</td><td>⋮</td><td>⋮</td></tr>\n",
              "\t<tr><td>101</td><td> 98.5</td><td>83</td><td>36.94444</td><td>309.9444</td></tr>\n",
              "\t<tr><td>102</td><td> 98.6</td><td>82</td><td>37.00000</td><td>310.0000</td></tr>\n",
              "\t<tr><td>103</td><td> 98.6</td><td>85</td><td>37.00000</td><td>310.0000</td></tr>\n",
              "\t<tr><td>104</td><td> 98.6</td><td>86</td><td>37.00000</td><td>310.0000</td></tr>\n",
              "\t<tr><td>105</td><td> 98.6</td><td>77</td><td>37.00000</td><td>310.0000</td></tr>\n",
              "\t<tr><td>106</td><td> 98.7</td><td>72</td><td>37.05556</td><td>310.0556</td></tr>\n",
              "\t<tr><td>107</td><td> 98.7</td><td>79</td><td>37.05556</td><td>310.0556</td></tr>\n",
              "\t<tr><td>108</td><td> 98.7</td><td>59</td><td>37.05556</td><td>310.0556</td></tr>\n",
              "\t<tr><td>109</td><td> 98.7</td><td>64</td><td>37.05556</td><td>310.0556</td></tr>\n",
              "\t<tr><td>110</td><td> 98.7</td><td>65</td><td>37.05556</td><td>310.0556</td></tr>\n",
              "\t<tr><td>111</td><td> 98.7</td><td>82</td><td>37.05556</td><td>310.0556</td></tr>\n",
              "\t<tr><td>112</td><td> 98.8</td><td>64</td><td>37.11111</td><td>310.1111</td></tr>\n",
              "\t<tr><td>113</td><td> 98.8</td><td>70</td><td>37.11111</td><td>310.1111</td></tr>\n",
              "\t<tr><td>114</td><td> 98.8</td><td>83</td><td>37.11111</td><td>310.1111</td></tr>\n",
              "\t<tr><td>115</td><td> 98.8</td><td>89</td><td>37.11111</td><td>310.1111</td></tr>\n",
              "\t<tr><td>116</td><td> 98.8</td><td>69</td><td>37.11111</td><td>310.1111</td></tr>\n",
              "\t<tr><td>117</td><td> 98.8</td><td>73</td><td>37.11111</td><td>310.1111</td></tr>\n",
              "\t<tr><td>118</td><td> 98.8</td><td>84</td><td>37.11111</td><td>310.1111</td></tr>\n",
              "\t<tr><td>119</td><td> 98.9</td><td>76</td><td>37.16667</td><td>310.1667</td></tr>\n",
              "\t<tr><td>120</td><td> 99.0</td><td>79</td><td>37.22222</td><td>310.2222</td></tr>\n",
              "\t<tr><td>121</td><td> 99.0</td><td>81</td><td>37.22222</td><td>310.2222</td></tr>\n",
              "\t<tr><td>122</td><td> 99.1</td><td>80</td><td>37.27778</td><td>310.2778</td></tr>\n",
              "\t<tr><td>123</td><td> 99.1</td><td>74</td><td>37.27778</td><td>310.2778</td></tr>\n",
              "\t<tr><td>124</td><td> 99.2</td><td>77</td><td>37.33333</td><td>310.3333</td></tr>\n",
              "\t<tr><td>125</td><td> 99.2</td><td>66</td><td>37.33333</td><td>310.3333</td></tr>\n",
              "\t<tr><td>126</td><td> 99.3</td><td>68</td><td>37.38889</td><td>310.3889</td></tr>\n",
              "\t<tr><td>127</td><td> 99.4</td><td>77</td><td>37.44444</td><td>310.4444</td></tr>\n",
              "\t<tr><td>128</td><td> 99.9</td><td>79</td><td>37.72222</td><td>310.7222</td></tr>\n",
              "\t<tr><td>129</td><td>100.0</td><td>78</td><td>37.77778</td><td>310.7778</td></tr>\n",
              "\t<tr><td>130</td><td>100.8</td><td>77</td><td>38.22222</td><td>311.2222</td></tr>\n",
              "</tbody>\n",
              "</table>\n"
            ],
            "text/markdown": "\nA data.frame: 65 × 5\n\n| ID &lt;int&gt; | bodytemp_degF &lt;dbl&gt; | heartrate_bpm &lt;int&gt; | bodytemp_degC &lt;dbl&gt; | bodytemp_Kelvin &lt;dbl&gt; |\n|---|---|---|---|---|\n| 66 | 96.4 | 69 | 35.77778 | 308.7778 |\n| 67 | 96.7 | 62 | 35.94444 | 308.9444 |\n| 68 | 96.8 | 75 | 36.00000 | 309.0000 |\n| 69 | 97.2 | 66 | 36.22222 | 309.2222 |\n| 70 | 97.2 | 68 | 36.22222 | 309.2222 |\n| 71 | 97.4 | 57 | 36.33333 | 309.3333 |\n| 72 | 97.6 | 61 | 36.44444 | 309.4444 |\n| 73 | 97.7 | 84 | 36.50000 | 309.5000 |\n| 74 | 97.7 | 61 | 36.50000 | 309.5000 |\n| 75 | 97.8 | 77 | 36.55556 | 309.5556 |\n| 76 | 97.8 | 62 | 36.55556 | 309.5556 |\n| 77 | 97.8 | 71 | 36.55556 | 309.5556 |\n| 78 | 97.9 | 68 | 36.61111 | 309.6111 |\n| 79 | 97.9 | 69 | 36.61111 | 309.6111 |\n| 80 | 97.9 | 79 | 36.61111 | 309.6111 |\n| 81 | 98.0 | 76 | 36.66667 | 309.6667 |\n| 82 | 98.0 | 87 | 36.66667 | 309.6667 |\n| 83 | 98.0 | 78 | 36.66667 | 309.6667 |\n| 84 | 98.0 | 73 | 36.66667 | 309.6667 |\n| 85 | 98.0 | 89 | 36.66667 | 309.6667 |\n| 86 | 98.1 | 81 | 36.72222 | 309.7222 |\n| 87 | 98.2 | 73 | 36.77778 | 309.7778 |\n| 88 | 98.2 | 64 | 36.77778 | 309.7778 |\n| 89 | 98.2 | 65 | 36.77778 | 309.7778 |\n| 90 | 98.2 | 73 | 36.77778 | 309.7778 |\n| 91 | 98.2 | 69 | 36.77778 | 309.7778 |\n| 92 | 98.2 | 57 | 36.77778 | 309.7778 |\n| 93 | 98.3 | 79 | 36.83333 | 309.8333 |\n| 94 | 98.3 | 78 | 36.83333 | 309.8333 |\n| 95 | 98.3 | 80 | 36.83333 | 309.8333 |\n| ⋮ | ⋮ | ⋮ | ⋮ | ⋮ |\n| 101 |  98.5 | 83 | 36.94444 | 309.9444 |\n| 102 |  98.6 | 82 | 37.00000 | 310.0000 |\n| 103 |  98.6 | 85 | 37.00000 | 310.0000 |\n| 104 |  98.6 | 86 | 37.00000 | 310.0000 |\n| 105 |  98.6 | 77 | 37.00000 | 310.0000 |\n| 106 |  98.7 | 72 | 37.05556 | 310.0556 |\n| 107 |  98.7 | 79 | 37.05556 | 310.0556 |\n| 108 |  98.7 | 59 | 37.05556 | 310.0556 |\n| 109 |  98.7 | 64 | 37.05556 | 310.0556 |\n| 110 |  98.7 | 65 | 37.05556 | 310.0556 |\n| 111 |  98.7 | 82 | 37.05556 | 310.0556 |\n| 112 |  98.8 | 64 | 37.11111 | 310.1111 |\n| 113 |  98.8 | 70 | 37.11111 | 310.1111 |\n| 114 |  98.8 | 83 | 37.11111 | 310.1111 |\n| 115 |  98.8 | 89 | 37.11111 | 310.1111 |\n| 116 |  98.8 | 69 | 37.11111 | 310.1111 |\n| 117 |  98.8 | 73 | 37.11111 | 310.1111 |\n| 118 |  98.8 | 84 | 37.11111 | 310.1111 |\n| 119 |  98.9 | 76 | 37.16667 | 310.1667 |\n| 120 |  99.0 | 79 | 37.22222 | 310.2222 |\n| 121 |  99.0 | 81 | 37.22222 | 310.2222 |\n| 122 |  99.1 | 80 | 37.27778 | 310.2778 |\n| 123 |  99.1 | 74 | 37.27778 | 310.2778 |\n| 124 |  99.2 | 77 | 37.33333 | 310.3333 |\n| 125 |  99.2 | 66 | 37.33333 | 310.3333 |\n| 126 |  99.3 | 68 | 37.38889 | 310.3889 |\n| 127 |  99.4 | 77 | 37.44444 | 310.4444 |\n| 128 |  99.9 | 79 | 37.72222 | 310.7222 |\n| 129 | 100.0 | 78 | 37.77778 | 310.7778 |\n| 130 | 100.8 | 77 | 38.22222 | 311.2222 |\n\n",
            "text/latex": "A data.frame: 65 × 5\n\\begin{tabular}{lllll}\n ID & bodytemp\\_degF & heartrate\\_bpm & bodytemp\\_degC & bodytemp\\_Kelvin\\\\\n <int> & <dbl> & <int> & <dbl> & <dbl>\\\\\n\\hline\n\t 66 & 96.4 & 69 & 35.77778 & 308.7778\\\\\n\t 67 & 96.7 & 62 & 35.94444 & 308.9444\\\\\n\t 68 & 96.8 & 75 & 36.00000 & 309.0000\\\\\n\t 69 & 97.2 & 66 & 36.22222 & 309.2222\\\\\n\t 70 & 97.2 & 68 & 36.22222 & 309.2222\\\\\n\t 71 & 97.4 & 57 & 36.33333 & 309.3333\\\\\n\t 72 & 97.6 & 61 & 36.44444 & 309.4444\\\\\n\t 73 & 97.7 & 84 & 36.50000 & 309.5000\\\\\n\t 74 & 97.7 & 61 & 36.50000 & 309.5000\\\\\n\t 75 & 97.8 & 77 & 36.55556 & 309.5556\\\\\n\t 76 & 97.8 & 62 & 36.55556 & 309.5556\\\\\n\t 77 & 97.8 & 71 & 36.55556 & 309.5556\\\\\n\t 78 & 97.9 & 68 & 36.61111 & 309.6111\\\\\n\t 79 & 97.9 & 69 & 36.61111 & 309.6111\\\\\n\t 80 & 97.9 & 79 & 36.61111 & 309.6111\\\\\n\t 81 & 98.0 & 76 & 36.66667 & 309.6667\\\\\n\t 82 & 98.0 & 87 & 36.66667 & 309.6667\\\\\n\t 83 & 98.0 & 78 & 36.66667 & 309.6667\\\\\n\t 84 & 98.0 & 73 & 36.66667 & 309.6667\\\\\n\t 85 & 98.0 & 89 & 36.66667 & 309.6667\\\\\n\t 86 & 98.1 & 81 & 36.72222 & 309.7222\\\\\n\t 87 & 98.2 & 73 & 36.77778 & 309.7778\\\\\n\t 88 & 98.2 & 64 & 36.77778 & 309.7778\\\\\n\t 89 & 98.2 & 65 & 36.77778 & 309.7778\\\\\n\t 90 & 98.2 & 73 & 36.77778 & 309.7778\\\\\n\t 91 & 98.2 & 69 & 36.77778 & 309.7778\\\\\n\t 92 & 98.2 & 57 & 36.77778 & 309.7778\\\\\n\t 93 & 98.3 & 79 & 36.83333 & 309.8333\\\\\n\t 94 & 98.3 & 78 & 36.83333 & 309.8333\\\\\n\t 95 & 98.3 & 80 & 36.83333 & 309.8333\\\\\n\t ⋮ & ⋮ & ⋮ & ⋮ & ⋮\\\\\n\t 101 &  98.5 & 83 & 36.94444 & 309.9444\\\\\n\t 102 &  98.6 & 82 & 37.00000 & 310.0000\\\\\n\t 103 &  98.6 & 85 & 37.00000 & 310.0000\\\\\n\t 104 &  98.6 & 86 & 37.00000 & 310.0000\\\\\n\t 105 &  98.6 & 77 & 37.00000 & 310.0000\\\\\n\t 106 &  98.7 & 72 & 37.05556 & 310.0556\\\\\n\t 107 &  98.7 & 79 & 37.05556 & 310.0556\\\\\n\t 108 &  98.7 & 59 & 37.05556 & 310.0556\\\\\n\t 109 &  98.7 & 64 & 37.05556 & 310.0556\\\\\n\t 110 &  98.7 & 65 & 37.05556 & 310.0556\\\\\n\t 111 &  98.7 & 82 & 37.05556 & 310.0556\\\\\n\t 112 &  98.8 & 64 & 37.11111 & 310.1111\\\\\n\t 113 &  98.8 & 70 & 37.11111 & 310.1111\\\\\n\t 114 &  98.8 & 83 & 37.11111 & 310.1111\\\\\n\t 115 &  98.8 & 89 & 37.11111 & 310.1111\\\\\n\t 116 &  98.8 & 69 & 37.11111 & 310.1111\\\\\n\t 117 &  98.8 & 73 & 37.11111 & 310.1111\\\\\n\t 118 &  98.8 & 84 & 37.11111 & 310.1111\\\\\n\t 119 &  98.9 & 76 & 37.16667 & 310.1667\\\\\n\t 120 &  99.0 & 79 & 37.22222 & 310.2222\\\\\n\t 121 &  99.0 & 81 & 37.22222 & 310.2222\\\\\n\t 122 &  99.1 & 80 & 37.27778 & 310.2778\\\\\n\t 123 &  99.1 & 74 & 37.27778 & 310.2778\\\\\n\t 124 &  99.2 & 77 & 37.33333 & 310.3333\\\\\n\t 125 &  99.2 & 66 & 37.33333 & 310.3333\\\\\n\t 126 &  99.3 & 68 & 37.38889 & 310.3889\\\\\n\t 127 &  99.4 & 77 & 37.44444 & 310.4444\\\\\n\t 128 &  99.9 & 79 & 37.72222 & 310.7222\\\\\n\t 129 & 100.0 & 78 & 37.77778 & 310.7778\\\\\n\t 130 & 100.8 & 77 & 38.22222 & 311.2222\\\\\n\\end{tabular}\n",
            "text/plain": [
              "   ID  bodytemp_degF heartrate_bpm bodytemp_degC bodytemp_Kelvin\n",
              "1  66  96.4          69            35.77778      308.7778       \n",
              "2  67  96.7          62            35.94444      308.9444       \n",
              "3  68  96.8          75            36.00000      309.0000       \n",
              "4  69  97.2          66            36.22222      309.2222       \n",
              "5  70  97.2          68            36.22222      309.2222       \n",
              "6  71  97.4          57            36.33333      309.3333       \n",
              "7  72  97.6          61            36.44444      309.4444       \n",
              "8  73  97.7          84            36.50000      309.5000       \n",
              "9  74  97.7          61            36.50000      309.5000       \n",
              "10 75  97.8          77            36.55556      309.5556       \n",
              "11 76  97.8          62            36.55556      309.5556       \n",
              "12 77  97.8          71            36.55556      309.5556       \n",
              "13 78  97.9          68            36.61111      309.6111       \n",
              "14 79  97.9          69            36.61111      309.6111       \n",
              "15 80  97.9          79            36.61111      309.6111       \n",
              "16 81  98.0          76            36.66667      309.6667       \n",
              "17 82  98.0          87            36.66667      309.6667       \n",
              "18 83  98.0          78            36.66667      309.6667       \n",
              "19 84  98.0          73            36.66667      309.6667       \n",
              "20 85  98.0          89            36.66667      309.6667       \n",
              "21 86  98.1          81            36.72222      309.7222       \n",
              "22 87  98.2          73            36.77778      309.7778       \n",
              "23 88  98.2          64            36.77778      309.7778       \n",
              "24 89  98.2          65            36.77778      309.7778       \n",
              "25 90  98.2          73            36.77778      309.7778       \n",
              "26 91  98.2          69            36.77778      309.7778       \n",
              "27 92  98.2          57            36.77778      309.7778       \n",
              "28 93  98.3          79            36.83333      309.8333       \n",
              "29 94  98.3          78            36.83333      309.8333       \n",
              "30 95  98.3          80            36.83333      309.8333       \n",
              "⋮  ⋮   ⋮             ⋮             ⋮             ⋮              \n",
              "36 101  98.5         83            36.94444      309.9444       \n",
              "37 102  98.6         82            37.00000      310.0000       \n",
              "38 103  98.6         85            37.00000      310.0000       \n",
              "39 104  98.6         86            37.00000      310.0000       \n",
              "40 105  98.6         77            37.00000      310.0000       \n",
              "41 106  98.7         72            37.05556      310.0556       \n",
              "42 107  98.7         79            37.05556      310.0556       \n",
              "43 108  98.7         59            37.05556      310.0556       \n",
              "44 109  98.7         64            37.05556      310.0556       \n",
              "45 110  98.7         65            37.05556      310.0556       \n",
              "46 111  98.7         82            37.05556      310.0556       \n",
              "47 112  98.8         64            37.11111      310.1111       \n",
              "48 113  98.8         70            37.11111      310.1111       \n",
              "49 114  98.8         83            37.11111      310.1111       \n",
              "50 115  98.8         89            37.11111      310.1111       \n",
              "51 116  98.8         69            37.11111      310.1111       \n",
              "52 117  98.8         73            37.11111      310.1111       \n",
              "53 118  98.8         84            37.11111      310.1111       \n",
              "54 119  98.9         76            37.16667      310.1667       \n",
              "55 120  99.0         79            37.22222      310.2222       \n",
              "56 121  99.0         81            37.22222      310.2222       \n",
              "57 122  99.1         80            37.27778      310.2778       \n",
              "58 123  99.1         74            37.27778      310.2778       \n",
              "59 124  99.2         77            37.33333      310.3333       \n",
              "60 125  99.2         66            37.33333      310.3333       \n",
              "61 126  99.3         68            37.38889      310.3889       \n",
              "62 127  99.4         77            37.44444      310.4444       \n",
              "63 128  99.9         79            37.72222      310.7222       \n",
              "64 129 100.0         78            37.77778      310.7778       \n",
              "65 130 100.8         77            38.22222      311.2222       "
            ]
          },
          "metadata": {}
        }
      ]
    },
    {
      "cell_type": "code",
      "source": [
        "#aggregating data\n",
        "cardiacdata_byGender <- cardiacdata %>%\n",
        "  group_by(Gender) %>%                                  # group by 'gender'\n",
        "  summarize(avg_bodytemp_degF = mean(bodytemp_degF),    # aggregate using means\n",
        "            avg_bodytemp_degC = mean(bodytemp_degC), \n",
        "            avg_heartrate_bpm = mean(heartrate_bpm))  "
      ],
      "metadata": {
        "id": "htHrWBA4Ca3k"
      },
      "execution_count": 144,
      "outputs": []
    },
    {
      "cell_type": "code",
      "source": [
        "# missing data\n",
        "some_numbers <- c(4,5,6,7,NA,8)\n",
        "\n",
        "mean(some_numbers)"
      ],
      "metadata": {
        "colab": {
          "base_uri": "https://localhost:8080/",
          "height": 34
        },
        "id": "KEWMM_8TCyxO",
        "outputId": "5688095e-a2f6-4e19-94b3-add653ec9131"
      },
      "execution_count": 145,
      "outputs": [
        {
          "output_type": "display_data",
          "data": {
            "text/html": [
              "&lt;NA&gt;"
            ],
            "text/markdown": "&lt;NA&gt;",
            "text/latex": "<NA>",
            "text/plain": [
              "[1] NA"
            ]
          },
          "metadata": {}
        }
      ]
    },
    {
      "cell_type": "code",
      "source": [
        "mean(some_numbers, na.rm = TRUE)"
      ],
      "metadata": {
        "colab": {
          "base_uri": "https://localhost:8080/",
          "height": 34
        },
        "id": "seG_tEIaDVJg",
        "outputId": "f70f3c32-dba6-44a9-9e91-81dc7e50308e"
      },
      "execution_count": 146,
      "outputs": [
        {
          "output_type": "display_data",
          "data": {
            "text/html": [
              "6"
            ],
            "text/markdown": "6",
            "text/latex": "6",
            "text/plain": [
              "[1] 6"
            ]
          },
          "metadata": {}
        }
      ]
    },
    {
      "cell_type": "code",
      "source": [
        "#histograms\n",
        "ggplot(data = cardiacdata, mapping = aes(x = bodytemp_degC)) + \n",
        "  geom_histogram(bins = 20)"
      ],
      "metadata": {
        "colab": {
          "base_uri": "https://localhost:8080/",
          "height": 437
        },
        "id": "fxfCXaTADZQV",
        "outputId": "7f49ed39-2866-4942-b373-3e395290e5b3"
      },
      "execution_count": 147,
      "outputs": [
        {
          "output_type": "display_data",
          "data": {
            "text/plain": [
              "plot without title"
            ],
            "image/png": "[encoded data removed]"
          },
          "metadata": {
            "image/png": {
              "width": 420,
              "height": 420
            }
          }
        }
      ]
    },
    {
      "cell_type": "code",
      "source": [
        "ggplot(data = cardiacdata, mapping = aes(x = bodytemp_degC)) + \n",
        "  geom_histogram(bins = 20, aes(y = ..density..))"
      ],
      "metadata": {
        "colab": {
          "base_uri": "https://localhost:8080/",
          "height": 437
        },
        "id": "dwE8suksDhKU",
        "outputId": "019ce861-6a5d-4dbd-97ea-fe944534ecdd"
      },
      "execution_count": 148,
      "outputs": [
        {
          "output_type": "display_data",
          "data": {
            "text/plain": [
              "plot without title"
            ],
            "image/png": "[encoded data removed]"
          },
          "metadata": {
            "image/png": {
              "width": 420,
              "height": 420
            }
          }
        }
      ]
    },
    {
      "cell_type": "code",
      "source": [
        "ggplot(data = cardiacdata, mapping = aes(x = bodytemp_degC)) + \n",
        "  geom_histogram(bins = 20, aes(y = ..density..), fill = 'lightblue') +\n",
        "  xlab('body temperature (celsius)') +\n",
        "  ggtitle('distribution of body temperatures') +\n",
        "  theme_light()"
      ],
      "metadata": {
        "colab": {
          "base_uri": "https://localhost:8080/",
          "height": 437
        },
        "id": "L1zjFQCvDjnF",
        "outputId": "ee6c39d9-f594-4abf-dd71-17662216bec9"
      },
      "execution_count": 149,
      "outputs": [
        {
          "output_type": "display_data",
          "data": {
            "text/plain": [
              "plot without title"
            ],
            "image/png": "[encoded data removed]"
          },
          "metadata": {
            "image/png": {
              "width": 420,
              "height": 420
            }
          }
        }
      ]
    },
    {
      "cell_type": "code",
      "source": [
        "#scatter plots\n",
        "ggplot(data = cardiacdata, mapping = aes(x = heartrate_bpm, y = bodytemp_degC)) + \n",
        "  geom_point() +\n",
        "  theme_light()"
      ],
      "metadata": {
        "colab": {
          "base_uri": "https://localhost:8080/",
          "height": 437
        },
        "id": "Dm85RLdODn6p",
        "outputId": "db2e6183-16cd-48bf-e2e4-864d3a254356"
      },
      "execution_count": 150,
      "outputs": [
        {
          "output_type": "display_data",
          "data": {
            "text/plain": [
              "plot without title"
            ],
            "image/png": "[encoded data removed]"
          },
          "metadata": {
            "image/png": {
              "width": 420,
              "height": 420
            }
          }
        }
      ]
    },
    {
      "cell_type": "code",
      "source": [
        "ggplot(data = cardiacdata, mapping = aes(x = heartrate_bpm, y = bodytemp_degC, color = Gender)) + \n",
        "  geom_point() +\n",
        "  theme_light()"
      ],
      "metadata": {
        "colab": {
          "base_uri": "https://localhost:8080/",
          "height": 437
        },
        "id": "N-sM9JliDsOu",
        "outputId": "07c2ffa7-8098-4bbb-c840-55143f298aee"
      },
      "execution_count": 153,
      "outputs": [
        {
          "output_type": "display_data",
          "data": {
            "text/plain": [
              "plot without title"
            ],
            "image/png": "[encoded data removed]"
          },
          "metadata": {
            "image/png": {
              "width": 420,
              "height": 420
            }
          }
        }
      ]
    },
    {
      "cell_type": "code",
      "source": [
        "#box and whisker plots\n",
        "ggplot(data = cardiacdata, mapping = aes(x = Gender, y = bodytemp_degC)) +\n",
        "  geom_boxplot() +\n",
        "  xlab('gender') +\n",
        "  ylab('body temperature (celsius)') +\n",
        "  theme_light()"
      ],
      "metadata": {
        "colab": {
          "base_uri": "https://localhost:8080/",
          "height": 437
        },
        "id": "_n5zvyHmDvlD",
        "outputId": "2c67e65d-cd73-4719-e1c2-1d57a0e982da"
      },
      "execution_count": 154,
      "outputs": [
        {
          "output_type": "display_data",
          "data": {
            "text/plain": [
              "plot without title"
            ],
            "image/png": "[encoded data removed]"
          },
          "metadata": {
            "image/png": {
              "width": 420,
              "height": 420
            }
          }
        }
      ]
    }
  ]
}